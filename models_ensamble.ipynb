{
 "cells": [
  {
   "cell_type": "code",
   "execution_count": 1,
   "metadata": {},
   "outputs": [],
   "source": [
    "import time\n",
    "\n",
    "# Data preprocessing\n",
    "import pandas as pd\n",
    "import numpy as np\n",
    "\n",
    "# Metrics\n",
    "from sklearn.metrics import accuracy_score\n",
    "from sklearn.metrics import f1_score"
   ]
  },
  {
   "cell_type": "code",
   "execution_count": 2,
   "metadata": {},
   "outputs": [],
   "source": [
    "from utils import train_val_split\n",
    "from utils import accuracy_f1_score\n",
    "from utils import train_datapath, test_datapath"
   ]
  },
  {
   "cell_type": "code",
   "execution_count": 3,
   "metadata": {},
   "outputs": [],
   "source": [
    "targets_for_test_df = pd.read_csv('data/targets_for_test.csv', index_col=0)['close']\n",
    "\n",
    "\n",
    "def evaluate_model_performance(model, X_val_seq, y_val_seq):\n",
    "    # Predict probabilities\n",
    "    y_pred_prob = model.predict(X_val_seq)\n",
    "\n",
    "    # Convert probabilities to binary predictions\n",
    "    y_pred = (y_pred_prob > 0.5).astype(int)\n",
    "    \n",
    "    y_val = y_val_seq.copy()\n",
    "    filled_y_pred = y_pred.copy()\n",
    "    if len(y_val_seq) == len(y_pred):       # If the lengths are the same, do nothing\n",
    "        print('Lengths are the same')\n",
    "        pass\n",
    "    elif len(y_val_seq) > len(y_pred):      # If the target is longer than the prediction\n",
    "        print('Target is longer than prediction')\n",
    "        difference = len(y_val_seq) - len(y_pred)\n",
    "        filled_y_pred = np.concatenate([np.zeros(difference), filled_y_pred])\n",
    "    else:                                   # If the prediction is longer than the target \n",
    "        print('Prediction is longer than target')\n",
    "        y_val = np.concatenate([np.zeros(1), y_val])\n",
    "        \n",
    "        \n",
    "    \n",
    "    # Calculate accuracy\n",
    "    accuracy = accuracy_score(y_val, filled_y_pred)\n",
    "    print(f'Validation Accuracy: {accuracy:.5f}')\n",
    "\n",
    "    # Calculate F1 macro score\n",
    "    f1_macro = f1_score(y_val, filled_y_pred, average='macro')\n",
    "    print(f'Validation F1 Macro Score: {f1_macro:.5f}')\n",
    "\n",
    "    return y_pred, y_pred_prob\n",
    "\n",
    "\n",
    "def save_submission(test_df, filled_test_predictions, filename='submission.csv'):\n",
    "    filename = 'submissions/' + filename\n",
    "    # Create a new DataFrame for the submission\n",
    "    submission_df = pd.DataFrame({\n",
    "        'row_id': test_df['row_id'],\n",
    "        'target': [0] + filled_test_predictions\n",
    "    })\n",
    "\n",
    "    # Save the submission file\n",
    "    submission_df.to_csv(filename, index=False)\n",
    "    print(f\"Predictions saved to {filename}\")\n",
    "\n",
    "\n",
    "\n"
   ]
  },
  {
   "cell_type": "code",
   "execution_count": 4,
   "metadata": {},
   "outputs": [],
   "source": [
    "test_df = pd.read_csv(test_datapath, usecols=['timestamp', 'row_id'], index_col=['row_id']) \n",
    "seasonal_submission = pd.read_csv('submission/mean_seasonal_predictions.csv', index_col=0)\n",
    "svd_submission = pd.read_csv('submission/svd_dt_submission.csv', index_col=0)\n",
    "svd_submission['timestamp']= test_df['timestamp']\n"
   ]
  },
  {
   "cell_type": "code",
   "execution_count": 5,
   "metadata": {},
   "outputs": [
    {
     "data": {
      "text/html": [
       "<div>\n",
       "<style scoped>\n",
       "    .dataframe tbody tr th:only-of-type {\n",
       "        vertical-align: middle;\n",
       "    }\n",
       "\n",
       "    .dataframe tbody tr th {\n",
       "        vertical-align: top;\n",
       "    }\n",
       "\n",
       "    .dataframe thead th {\n",
       "        text-align: right;\n",
       "    }\n",
       "</style>\n",
       "<table border=\"1\" class=\"dataframe\">\n",
       "  <thead>\n",
       "    <tr style=\"text-align: right;\">\n",
       "      <th></th>\n",
       "      <th>0</th>\n",
       "    </tr>\n",
       "  </thead>\n",
       "  <tbody>\n",
       "    <tr>\n",
       "      <th>0</th>\n",
       "      <td>1</td>\n",
       "    </tr>\n",
       "    <tr>\n",
       "      <th>1</th>\n",
       "      <td>1</td>\n",
       "    </tr>\n",
       "    <tr>\n",
       "      <th>2</th>\n",
       "      <td>0</td>\n",
       "    </tr>\n",
       "    <tr>\n",
       "      <th>3</th>\n",
       "      <td>0</td>\n",
       "    </tr>\n",
       "    <tr>\n",
       "      <th>4</th>\n",
       "      <td>0</td>\n",
       "    </tr>\n",
       "    <tr>\n",
       "      <th>...</th>\n",
       "      <td>...</td>\n",
       "    </tr>\n",
       "    <tr>\n",
       "      <th>909611</th>\n",
       "      <td>0</td>\n",
       "    </tr>\n",
       "    <tr>\n",
       "      <th>909612</th>\n",
       "      <td>0</td>\n",
       "    </tr>\n",
       "    <tr>\n",
       "      <th>909613</th>\n",
       "      <td>1</td>\n",
       "    </tr>\n",
       "    <tr>\n",
       "      <th>909614</th>\n",
       "      <td>1</td>\n",
       "    </tr>\n",
       "    <tr>\n",
       "      <th>909615</th>\n",
       "      <td>1</td>\n",
       "    </tr>\n",
       "  </tbody>\n",
       "</table>\n",
       "<p>909616 rows × 1 columns</p>\n",
       "</div>"
      ],
      "text/plain": [
       "        0\n",
       "0       1\n",
       "1       1\n",
       "2       0\n",
       "3       0\n",
       "4       0\n",
       "...    ..\n",
       "909611  0\n",
       "909612  0\n",
       "909613  1\n",
       "909614  1\n",
       "909615  1\n",
       "\n",
       "[909616 rows x 1 columns]"
      ]
     },
     "execution_count": 5,
     "metadata": {},
     "output_type": "execute_result"
    }
   ],
   "source": [
    "seasonal_submission"
   ]
  },
  {
   "cell_type": "code",
   "execution_count": 6,
   "metadata": {},
   "outputs": [
    {
     "name": "stderr",
     "output_type": "stream",
     "text": [
      "  0%|          | 0/909617 [00:00<?, ?it/s]C:\\Users\\PLour\\AppData\\Local\\Temp\\ipykernel_17124\\813361917.py:10: FutureWarning: Series.__getitem__ treating keys as positions is deprecated. In a future version, integer keys will always be treated as labels (consistent with DataFrame behavior). To access a value by position, use `ser.iloc[pos]`\n",
      "  seasonal_pred = seasonal_submission.loc[i][0]\n",
      "100%|██████████| 909617/909617 [02:38<00:00, 5735.42it/s]\n"
     ]
    },
    {
     "name": "stdout",
     "output_type": "stream",
     "text": [
      "Target is longer than prediction\n",
      "Validation Accuracy: 0.49503\n",
      "Validation F1 Macro Score: 0.49071\n"
     ]
    },
    {
     "data": {
      "text/plain": [
       "(0.49502812722277617, 0.4907147303991576)"
      ]
     },
     "execution_count": 6,
     "metadata": {},
     "output_type": "execute_result"
    }
   ],
   "source": [
    "import numpy as np\n",
    "import tqdm\n",
    "predictions = []\n",
    "for i in tqdm.tqdm(range(len(test_df))):\n",
    "    svd_pred = np.random.choice([0, 1])\n",
    "    seasonal_pred = np.random.choice([0, 1])\n",
    "    if i in svd_submission.index:\n",
    "        svd_pred = svd_submission.loc[i]['target']\n",
    "    if i in seasonal_submission.index:\n",
    "        seasonal_pred = seasonal_submission.loc[i][0]\n",
    "\n",
    "    prediction = np.random.choice([svd_pred, seasonal_pred])\n",
    "    predictions.append(prediction)\n",
    "\n",
    "accuracy_f1_score(targets_for_test_df, predictions)"
   ]
  },
  {
   "cell_type": "code",
   "execution_count": 7,
   "metadata": {},
   "outputs": [],
   "source": [
    "pd.DataFrame(predictions).to_csv('submission/ensemble_submission.csv', index=False)"
   ]
  },
  {
   "cell_type": "code",
   "execution_count": null,
   "metadata": {},
   "outputs": [],
   "source": []
  }
 ],
 "metadata": {
  "kernelspec": {
   "display_name": "Python 3",
   "language": "python",
   "name": "python3"
  },
  "language_info": {
   "codemirror_mode": {
    "name": "ipython",
    "version": 3
   },
   "file_extension": ".py",
   "mimetype": "text/x-python",
   "name": "python",
   "nbconvert_exporter": "python",
   "pygments_lexer": "ipython3",
   "version": "3.11.9"
  }
 },
 "nbformat": 4,
 "nbformat_minor": 2
}
