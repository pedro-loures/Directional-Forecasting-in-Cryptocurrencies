{
 "cells": [
  {
   "cell_type": "markdown",
   "metadata": {},
   "source": [
    "# Header"
   ]
  },
  {
   "cell_type": "code",
   "execution_count": 1,
   "metadata": {},
   "outputs": [],
   "source": [
    "import pandas as pd\n",
    "import time\n",
    "import numpy as np\n",
    "\n",
    "# Metrics\n",
    "from sklearn.metrics import accuracy_score, f1_score"
   ]
  },
  {
   "cell_type": "code",
   "execution_count": 2,
   "metadata": {},
   "outputs": [],
   "source": [
    "from utils import train_val_split\n",
    "from utils import train_datapath, test_datapath\n"
   ]
  },
  {
   "cell_type": "code",
   "execution_count": 3,
   "metadata": {},
   "outputs": [],
   "source": [
    "# Define function to create sequences\n",
    "def create_sequences(data, num_timesteps):\n",
    "    sequences = []\n",
    "    for i in range(len(data) - num_timesteps + 1):\n",
    "        sequences.append(data[i:i+num_timesteps])\n",
    "    return np.array(sequences)\n"
   ]
  },
  {
   "cell_type": "markdown",
   "metadata": {},
   "source": [
    "# Base RNN"
   ]
  },
  {
   "cell_type": "markdown",
   "metadata": {},
   "source": [
    "## Crude"
   ]
  },
  {
   "cell_type": "code",
   "execution_count": 4,
   "metadata": {},
   "outputs": [],
   "source": [
    "train_df = pd.read_csv(train_datapath)\n",
    "test_df = pd.read_csv(test_datapath)"
   ]
  },
  {
   "cell_type": "code",
   "execution_count": null,
   "metadata": {},
   "outputs": [
    {
     "name": "stderr",
     "output_type": "stream",
     "text": [
      "d:\\01_GitHub\\Directional-Forecasting-in-Cryptocurrencies\\env_rnn\\Lib\\site-packages\\tensorflow_addons\\utils\\tfa_eol_msg.py:23: UserWarning: \n",
      "\n",
      "TensorFlow Addons (TFA) has ended development and introduction of new features.\n",
      "TFA has entered a minimal maintenance and release mode until a planned end of life in May 2024.\n",
      "Please modify downstream libraries to take dependencies from other repositories in our TensorFlow community (e.g. Keras, Keras-CV, and Keras-NLP). \n",
      "\n",
      "For more information see: https://github.com/tensorflow/addons/issues/2807 \n",
      "\n",
      "  warnings.warn(\n"
     ]
    },
    {
     "name": "stdout",
     "output_type": "stream",
     "text": [
      "Epoch 1/10\n",
      "53061/53061 [==============================] - 207s 4ms/step - loss: 0.6922 - f1_score: 0.1973\n",
      "Epoch 2/10\n",
      "53061/53061 [==============================] - 203s 4ms/step - loss: 0.6921 - f1_score: 0.2271\n",
      "Epoch 3/10\n",
      "41201/53061 [======================>.......] - ETA: 46s - loss: 0.6919 - f1_score: 0.1967"
     ]
    }
   ],
   "source": [
    "from keras.models import Sequential\n",
    "from keras.layers import SimpleRNN, Dense\n",
    "from sklearn.preprocessing import StandardScaler\n",
    "import tensorflow_addons as tfa\n",
    "\n",
    "\n",
    "start_time = time.time()\n",
    "\n",
    "\n",
    "# Extract features and target\n",
    "X_train, y_train, X_val, y_val = train_val_split(train_df)\n",
    "\n",
    "# Scale the data\n",
    "scaler = StandardScaler()\n",
    "X_train = scaler.fit_transform(X_train)\n",
    "X_val = scaler.transform(X_val)\n",
    "\n",
    "\n",
    "\n",
    "# Reshape data to fit RNN input requirements (samples, time steps, features)\n",
    "num_timesteps = 15\n",
    "num_features = X_train.shape[1]  # Assuming X_train has 10 features\n",
    "\n",
    "# Generate sequences\n",
    "X_train_seq = create_sequences(X_train, num_timesteps)\n",
    "X_val_seq = create_sequences(X_val, num_timesteps)\n",
    "\n",
    "# Adjust y_train and y_val accordingly\n",
    "y_train_seq = y_train[num_timesteps - 1:]\n",
    "y_val_seq = y_val[num_timesteps - 1:]\n",
    "\n",
    "# Define the RNN model\n",
    "model = Sequential()\n",
    "model.add(SimpleRNN(50, input_shape=(X_train_seq.shape[1], X_train_seq.shape[2])))\n",
    "model.add(Dense(1, activation='sigmoid'))\n",
    "model.compile(optimizer='adam', loss='binary_crossentropy', metrics=[tfa.metrics.F1Score(num_classes=1, threshold=0.5)])\n",
    "\n",
    "# Train the model\n",
    "model.fit(X_train_seq, y_train_seq, epochs=10, batch_size=32)\n",
    "\n",
    "# Predict probabilities\n",
    "y_pred_prob = model.predict(X_val_seq)\n",
    "\n",
    "# Convert probabilities to binary predictions\n",
    "y_pred = (y_pred_prob > 0.5).astype(int)\n",
    "\n",
    "\n",
    "end_time = time.time()\n",
    "minutes = (end_time - start_time) // 60\n",
    "seconds = (end_time - start_time) % 60\n",
    "print(f'Time elapsed: {minutes:.0f}m {seconds:.1f}s')\n",
    "print('--------------------------------------')\n",
    "# Calculate accuracy\n",
    "accuracy = accuracy_score(y_val_seq, y_pred)\n",
    "print(f'Validation Accuracy: {accuracy:.5f}')\n",
    "\n",
    "# Calculate F1 macro score\n",
    "f1_macro = f1_score(y_val_seq, y_pred, average='macro')\n",
    "print(f'Validation F1 Macro Score: {f1_macro:.5f}')\n"
   ]
  },
  {
   "cell_type": "code",
   "execution_count": null,
   "metadata": {},
   "outputs": [
    {
     "data": {
      "text/plain": [
       "(909620, 909616)"
      ]
     },
     "execution_count": 16,
     "metadata": {},
     "output_type": "execute_result"
    }
   ],
   "source": [
    "len(test_predictions), len(targets_for_test_df)"
   ]
  },
  {
   "cell_type": "code",
   "execution_count": null,
   "metadata": {},
   "outputs": [],
   "source": [
    "# Ensure the test data is preprocessed in the same way as the training data\n",
    "X_test = test_df.drop(columns=['row_id'])\n",
    "X_test = scaler.transform(X_test)\n",
    "\n",
    "# Reshape test data to fit RNN input requirements (samples, time steps, features)\n",
    "X_test_seq = create_sequences(X_test, num_timesteps)\n",
    "\n",
    "# Make predictions on the test data\n",
    "test_predictions_prob = model.predict(X_test_seq)\n",
    "\n",
    "# Convert probabilities to binary predictions\n",
    "test_predictions = (test_predictions_prob > 0.5).astype(int)\n",
    "\n",
    "# Adjust test_predictions to match the length of targets_for_test_df\n",
    "# filled_test_predictions = (2+(num_timesteps)) * [0] + test_predictions.flatten().tolist()\n",
    "\n",
    "# # Calculate accuracy\n",
    "# accuracy = accuracy_score(targets_for_test_df, test_predictions)\n",
    "# print(f'Test Accuracy: {accuracy:.5f}')\n",
    "\n",
    "# # Calculate F1 macro score\n",
    "# f1_macro = f1_score(targets_for_test_df, test_predictions, average='macro')\n",
    "# print(f'Test F1 Macro Score: {f1_macro:.5f}')"
   ]
  },
  {
   "cell_type": "markdown",
   "metadata": {},
   "source": [
    "## New Features"
   ]
  },
  {
   "cell_type": "code",
   "execution_count": null,
   "metadata": {},
   "outputs": [],
   "source": [
    "from keras.models import Sequential\n",
    "from keras.layers import SimpleRNN, Dense\n",
    "from sklearn.preprocessing import StandardScaler\n",
    "import tensorflow_addons as tfa\n",
    "\n",
    "\n",
    "start_time = time.time()\n",
    "\n",
    "\n",
    "# Extract features and target\n",
    "X_train, y_train, X_val, y_val = train_val_split(treated_train_df)\n",
    "\n",
    "# Scale the data\n",
    "scaler = StandardScaler()\n",
    "X_train = scaler.fit_transform(X_train)\n",
    "X_val = scaler.transform(X_val)\n",
    "\n",
    "\n",
    "\n",
    "# Reshape data to fit RNN input requirements (samples, time steps, features)\n",
    "num_timesteps = 15\n",
    "num_features = X_train.shape[1]  # Assuming X_train has 10 features\n",
    "\n",
    "# Generate sequences\n",
    "X_train_seq = create_sequences(X_train, num_timesteps)\n",
    "X_val_seq = create_sequences(X_val, num_timesteps)\n",
    "\n",
    "# Adjust y_train and y_val accordingly\n",
    "y_train_seq = y_train[num_timesteps - 1:]\n",
    "y_val_seq = y_val[num_timesteps - 1:]\n",
    "\n",
    "# Define the RNN treated_model\n",
    "treated_model = Sequential()\n",
    "treated_model.add(SimpleRNN(50, input_shape=(X_train_seq.shape[1], X_train_seq.shape[2])))\n",
    "treated_model.add(Dense(1, activation='sigmoid'))\n",
    "treated_model.compile(optimizer='adam', loss='binary_crossentropy', metrics=[tfa.metrics.F1Score(num_classes=1, threshold=0.5)])\n",
    "\n",
    "# Train the treated_model\n",
    "treated_model.fit(X_train_seq, y_train_seq, epochs=10, batch_size=32)\n",
    "\n",
    "# Predict probabilities\n",
    "y_pred_prob = treated_model.predict(X_val_seq)\n",
    "\n",
    "# Convert probabilities to binary predictions\n",
    "y_pred = (y_pred_prob > 0.5).astype(int)\n",
    "\n",
    "\n",
    "end_time = time.time()\n",
    "minutes = (end_time - start_time) // 60\n",
    "seconds = (end_time - start_time) % 60\n",
    "print(f'Time elapsed: {minutes:.0f}m {seconds:.1f}s')\n",
    "print('--------------------------------------')\n",
    "# Calculate accuracy\n",
    "accuracy = accuracy_score(y_val_seq, y_pred)\n",
    "print(f'Validation Accuracy: {accuracy:.5f}')\n",
    "\n",
    "# Calculate F1 macro score\n",
    "f1_macro = f1_score(y_val_seq, y_pred, average='macro')\n",
    "print(f'Validation F1 Macro Score: {f1_macro:.5f}')\n"
   ]
  },
  {
   "cell_type": "code",
   "execution_count": null,
   "metadata": {},
   "outputs": [],
   "source": [
    "# Ensure the test data is preprocessed in the same way as the training data\n",
    "X_test = treated_test_df.drop(columns=['row_id'])\n",
    "X_test = scaler.transform(X_test)\n",
    "\n",
    "# Reshape test data to fit RNN input requirements (samples, time steps, features)\n",
    "X_test_seq = create_sequences(X_test, num_timesteps)\n",
    "\n",
    "# Make predictions on the test data\n",
    "test_predictions_prob = treated_model.predict(X_test_seq)\n",
    "\n",
    "# Convert probabilities to binary predictions\n",
    "test_predictions = (test_predictions_prob > 0.5).astype(int)\n",
    "\n",
    "# Adjust test_predictions to match the length of targets_for_test_df\n",
    "# filled_test_predictions = (2+(num_timesteps)) * [0] + test_predictions.flatten().tolist()\n",
    "\n",
    "# # Calculate accuracy\n",
    "# accuracy = accuracy_score(targets_for_test_df, test_predictions)\n",
    "# print(f'Test Accuracy: {accuracy:.5f}')\n",
    "\n",
    "# # Calculate F1 macro score\n",
    "# f1_macro = f1_score(targets_for_test_df, test_predictions, average='macro')\n",
    "# print(f'Test F1 Macro Score: {f1_macro:.5f}')"
   ]
  },
  {
   "cell_type": "markdown",
   "metadata": {},
   "source": [
    "## Only new features"
   ]
  },
  {
   "cell_type": "code",
   "execution_count": null,
   "metadata": {},
   "outputs": [
    {
     "data": {
      "text/plain": [
       "array([[1],\n",
       "       [0],\n",
       "       [0],\n",
       "       ...,\n",
       "       [0],\n",
       "       [0],\n",
       "       [0]])"
      ]
     },
     "execution_count": 10,
     "metadata": {},
     "output_type": "execute_result"
    }
   ],
   "source": [
    "from keras.models import Sequential\n",
    "from keras.layers import SimpleRNN, Dense\n",
    "from sklearn.preprocessing import StandardScaler\n",
    "import tensorflow_addons as tfa\n",
    "\n",
    "\n",
    "start_time = time.time()\n",
    "\n",
    "\n",
    "# Extract features and target\n",
    "X_train, y_train, X_val, y_val = train_val_split(new_features_train_df)\n",
    "\n",
    "# Scale the data\n",
    "scaler = StandardScaler()\n",
    "X_train = scaler.fit_transform(X_train)\n",
    "X_val = scaler.transform(X_val)\n",
    "\n",
    "\n",
    "\n",
    "# Reshape data to fit RNN input requirements (samples, time steps, features)\n",
    "num_timesteps = 15\n",
    "num_features = X_train.shape[1]  # Assuming X_train has 10 features\n",
    "\n",
    "# Generate sequences\n",
    "X_train_seq = create_sequences(X_train, num_timesteps)\n",
    "X_val_seq = create_sequences(X_val, num_timesteps)\n",
    "\n",
    "# Adjust y_train and y_val accordingly\n",
    "y_train_seq = y_train[num_timesteps - 1:]\n",
    "y_val_seq = y_val[num_timesteps - 1:]\n",
    "\n",
    "# Define the RNN only_model\n",
    "only_model = Sequential()\n",
    "only_model.add(SimpleRNN(50, input_shape=(X_train_seq.shape[1], X_train_seq.shape[2])))\n",
    "only_model.add(Dense(1, activation='sigmoid'))\n",
    "only_model.compile(optimizer='adam', loss='binary_crossentropy', metrics=[tfa.metrics.F1Score(num_classes=1, threshold=0.5)])\n",
    "\n",
    "# Train the only_model\n",
    "only_model.fit(X_train_seq, y_train_seq, epochs=10, batch_size=32)\n",
    "\n",
    "# Predict probabilities\n",
    "y_pred_prob = only_model.predict(X_val_seq)\n",
    "\n",
    "# Convert probabilities to binary predictions\n",
    "y_pred = (y_pred_prob > 0.5).astype(int)\n",
    "\n",
    "\n",
    "end_time = time.time()\n",
    "minutes = (end_time - start_time) // 60\n",
    "seconds = (end_time - start_time) % 60\n",
    "print(f'Time elapsed: {minutes:.0f}m {seconds:.1f}s')\n",
    "print('--------------------------------------')\n",
    "# Calculate accuracy\n",
    "accuracy = accuracy_score(y_val_seq, y_pred)\n",
    "print(f'Validation Accuracy: {accuracy:.5f}')\n",
    "\n",
    "# Calculate F1 macro score\n",
    "f1_macro = f1_score(y_val_seq, y_pred, average='macro')\n",
    "print(f'Validation F1 Macro Score: {f1_macro:.5f}')\n"
   ]
  },
  {
   "cell_type": "code",
   "execution_count": null,
   "metadata": {},
   "outputs": [],
   "source": [
    "# Ensure the test data is preprocessed in the same way as the training data\n",
    "X_test = new_features_test_df.drop(columns=['row_id'])\n",
    "X_test = scaler.transform(X_test)\n",
    "\n",
    "# Reshape test data to fit RNN input requirements (samples, time steps, features)\n",
    "X_test_seq = create_sequences(X_test, num_timesteps)\n",
    "\n",
    "# Make predictions on the test data\n",
    "test_predictions_prob = only_model.predict(X_test_seq)\n",
    "\n",
    "# Convert probabilities to binary predictions\n",
    "test_predictions = (test_predictions_prob > 0.5).astype(int)\n",
    "\n",
    "# Adjust test_predictions to match the length of targets_for_test_df\n",
    "# filled_test_predictions = (2+(num_timesteps)) * [0] + test_predictions.flatten().tolist()\n",
    "\n",
    "# # Calculate accuracy\n",
    "# accuracy = accuracy_score(targets_for_test_df, test_predictions)\n",
    "# print(f'Test Accuracy: {accuracy:.5f}')\n",
    "\n",
    "# # Calculate F1 macro score\n",
    "# f1_macro = f1_score(targets_for_test_df, test_predictions, average='macro')\n",
    "# print(f'Test F1 Macro Score: {f1_macro:.5f}')"
   ]
  }
 ],
 "metadata": {
  "kernelspec": {
   "display_name": "env_rnn",
   "language": "python",
   "name": "python3"
  },
  "language_info": {
   "codemirror_mode": {
    "name": "ipython",
    "version": 3
   },
   "file_extension": ".py",
   "mimetype": "text/x-python",
   "name": "python",
   "nbconvert_exporter": "python",
   "pygments_lexer": "ipython3",
   "version": "3.11.9"
  }
 },
 "nbformat": 4,
 "nbformat_minor": 2
}
