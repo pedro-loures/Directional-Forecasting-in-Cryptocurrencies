{
 "cells": [
  {
   "cell_type": "markdown",
   "metadata": {},
   "source": [
    "# Header"
   ]
  },
  {
   "cell_type": "code",
   "execution_count": null,
   "metadata": {},
   "outputs": [],
   "source": [
    "from time import time\n",
    "\n",
    "# Data manipulation\n",
    "import pandas as pd\n",
    "\n",
    "# Metrics \n",
    "from sklearn.metrics import accuracy_score, f1_score"
   ]
  },
  {
   "cell_type": "code",
   "execution_count": 1,
   "metadata": {},
   "outputs": [],
   "source": [
    "from data_treatment import train_df, test_df, \\\n",
    "                            treated_train_df, treated_test_df, \\\n",
    "                            new_features_train_df, new_features_test_df, \\\n",
    "                            svd_train_df, svd_test_df, \\\n",
    "                            targets_for_test_df\n",
    "\n",
    "from data_treatment import train_val_split                            "
   ]
  },
  {
   "cell_type": "markdown",
   "metadata": {},
   "source": [
    "# Arima for close price"
   ]
  },
  {
   "cell_type": "markdown",
   "metadata": {},
   "source": [
    "## Growth factor"
   ]
  },
  {
   "cell_type": "code",
   "execution_count": null,
   "metadata": {},
   "outputs": [
    {
     "name": "stderr",
     "output_type": "stream",
     "text": [
      "C:\\Users\\PLour\\AppData\\Local\\Packages\\PythonSoftwareFoundation.Python.3.11_qbz5n2kfra8p0\\LocalCache\\local-packages\\Python311\\site-packages\\statsmodels\\tsa\\base\\tsa_model.py:473: ValueWarning: An unsupported index was provided. As a result, forecasts cannot be generated. To use the model for forecasting, use one of the supported classes of index.\n",
      "  self._init_dates(dates, freq)\n",
      "C:\\Users\\PLour\\AppData\\Local\\Packages\\PythonSoftwareFoundation.Python.3.11_qbz5n2kfra8p0\\LocalCache\\local-packages\\Python311\\site-packages\\statsmodels\\tsa\\base\\tsa_model.py:473: ValueWarning: An unsupported index was provided. As a result, forecasts cannot be generated. To use the model for forecasting, use one of the supported classes of index.\n",
      "  self._init_dates(dates, freq)\n",
      "C:\\Users\\PLour\\AppData\\Local\\Packages\\PythonSoftwareFoundation.Python.3.11_qbz5n2kfra8p0\\LocalCache\\local-packages\\Python311\\site-packages\\statsmodels\\tsa\\base\\tsa_model.py:473: ValueWarning: An unsupported index was provided. As a result, forecasts cannot be generated. To use the model for forecasting, use one of the supported classes of index.\n",
      "  self._init_dates(dates, freq)\n"
     ]
    },
    {
     "name": "stdout",
     "output_type": "stream",
     "text": [
      "                               SARIMAX Results                                \n",
      "==============================================================================\n",
      "Dep. Variable:                  close   No. Observations:              1697949\n",
      "Model:                 ARIMA(5, 1, 0)   Log Likelihood             8181451.130\n",
      "Date:                Wed, 30 Oct 2024   AIC                      -16362890.261\n",
      "Time:                        14:11:28   BIC                      -16362816.191\n",
      "Sample:                             0   HQIC                     -16362870.300\n",
      "                            - 1697949                                         \n",
      "Covariance Type:                  opg                                         \n",
      "==============================================================================\n",
      "                 coef    std err          z      P>|z|      [0.025      0.975]\n",
      "------------------------------------------------------------------------------\n",
      "ar.L1         -0.8442      0.000  -7682.262      0.000      -0.844      -0.844\n",
      "ar.L2         -0.6877      0.000  -4450.548      0.000      -0.688      -0.687\n",
      "ar.L3         -0.5079      0.000  -2860.654      0.000      -0.508      -0.508\n",
      "ar.L4         -0.3307      0.000  -2028.681      0.000      -0.331      -0.330\n",
      "ar.L5         -0.1633      0.000  -1211.523      0.000      -0.164      -0.163\n",
      "sigma2      3.822e-06   4.29e-10   8904.214      0.000    3.82e-06    3.82e-06\n",
      "===================================================================================\n",
      "Ljung-Box (L1) (Q):                 893.16   Jarque-Bera (JB):        2730062537.25\n",
      "Prob(Q):                              0.00   Prob(JB):                         0.00\n",
      "Heteroskedasticity (H):               2.49   Skew:                             0.71\n",
      "Prob(H) (two-sided):                  0.00   Kurtosis:                       199.43\n",
      "===================================================================================\n",
      "\n",
      "Warnings:\n",
      "[1] Covariance matrix calculated using the outer product of gradients (complex-step).\n"
     ]
    }
   ],
   "source": [
    "from statsmodels.tsa.arima.model import ARIMA\n",
    "\n",
    "start_time = time()\n",
    "X_train, y_train, X_val, y_val = train_val_split(train_df)\n",
    "close_train_series = X_train['close']\n",
    "close_val_series = X_val['close']\n",
    "\n",
    "close_train_growth = close_train_series.pct_change()\n",
    "close_val_growth = close_val_series.pct_change()\n",
    "\n",
    "close_train_growth = close_train_growth.dropna()\n",
    "close_val_growth = close_val_growth.dropna()\n",
    "\n",
    "# Fit ARIMA model on close_train_growth\n",
    "arima_model = ARIMA(close_train_growth, order=(5, 1, 0))\n",
    "arima_result = arima_model.fit()\n",
    "\n",
    "print(arima_result.summary())\n",
    "\n",
    "end_time = time.time()\n",
    "minutes = (end_time - start_time) // 60\n",
    "seconds = (end_time - start_time) % 60\n",
    "print(f'Time elapsed: {minutes:.0f}m {seconds:.1f}s')\n",
    "print('--------------------------------------')"
   ]
  },
  {
   "cell_type": "code",
   "execution_count": null,
   "metadata": {},
   "outputs": [
    {
     "ename": "NameError",
     "evalue": "name 'close_val_growth' is not defined",
     "output_type": "error",
     "traceback": [
      "\u001b[1;31m---------------------------------------------------------------------------\u001b[0m",
      "\u001b[1;31mNameError\u001b[0m                                 Traceback (most recent call last)",
      "Cell \u001b[1;32mIn[1], line 2\u001b[0m\n\u001b[0;32m      1\u001b[0m \u001b[38;5;66;03m# Forecast the growth prices using the ARIMA model\u001b[39;00m\n\u001b[1;32m----> 2\u001b[0m forecast_steps \u001b[38;5;241m=\u001b[39m \u001b[38;5;28mlen\u001b[39m(\u001b[43mclose_val_growth\u001b[49m)\n\u001b[0;32m      3\u001b[0m forecasted_growth \u001b[38;5;241m=\u001b[39m arima_result\u001b[38;5;241m.\u001b[39mforecast(steps\u001b[38;5;241m=\u001b[39mforecast_steps)\n\u001b[0;32m      5\u001b[0m \u001b[38;5;66;03m# Print the forecasted growth prices\u001b[39;00m\n",
      "\u001b[1;31mNameError\u001b[0m: name 'close_val_growth' is not defined"
     ]
    }
   ],
   "source": [
    "# Forecast the growth prices using the ARIMA model\n",
    "forecast_steps = len(close_val_growth)\n",
    "forecasted_growth = arima_result.forecast(steps=forecast_steps)\n",
    "\n",
    "forecasted_target = forecasted_growth >= 0\n",
    "\n",
    "# Print the forecasted growth prices\n",
    "print(forecasted_growth)"
   ]
  },
  {
   "cell_type": "code",
   "execution_count": null,
   "metadata": {},
   "outputs": [],
   "source": [
    "\n",
    "# Calculate accuracy\n",
    "accuracy = accuracy_score(targets_for_test_df, forecasted_target[:len(targets_for_test_df)])\t\n",
    "print(f'Test Accuracy: {accuracy:.5f}')\n",
    "\n",
    "# Calculate F1 macro score\n",
    "f1_macro = f1_score(targets_for_test_df, forecasted_target[:len(targets_for_test_df)], average='macro')\n",
    "print(f'Test F1 Macro Score: {f1_macro:.5f}')"
   ]
  },
  {
   "cell_type": "code",
   "execution_count": null,
   "metadata": {},
   "outputs": [],
   "source": [
    "# Initialize a list to store the predictions\n",
    "predicted_growth = []\n",
    "\n",
    "# Use the last observed value from the training set as the initial input\n",
    "input_series = close_train_growth.copy()\n",
    "\n",
    "# Iteratively predict the next value in the validation set\n",
    "for actual_value in close_val_growth:\n",
    "    \n",
    "    # Forecast the next value\n",
    "    next_forecast = arima_result.forecast(steps=1)[0]\n",
    "    predicted_growth.append(next_forecast)\n",
    "    \n",
    "    # Update the input series with the actual value from the validation set\n",
    "    input_series = input_series.append(pd.Series([actual_value]))\n",
    "\n",
    "predicted_target = predicted_growth >= 0\n",
    "# Print the predicted growth values\n",
    "print(predicted_growth)\n",
    "print(predicted_target)\n"
   ]
  },
  {
   "cell_type": "code",
   "execution_count": null,
   "metadata": {},
   "outputs": [],
   "source": [
    "\n",
    "# Calculate accuracy\n",
    "accuracy = accuracy_score(targets_for_test_df, predicted_target[:len(targets_for_test_df)])\t\n",
    "print(f'Test Accuracy: {accuracy:.5f}')\n",
    "\n",
    "# Calculate F1 macro score\n",
    "f1_macro = f1_score(targets_for_test_df, predicted_target[:len(targets_for_test_df)], average='macro')\n",
    "print(f'Test F1 Macro Score: {f1_macro:.5f}')"
   ]
  },
  {
   "cell_type": "markdown",
   "metadata": {},
   "source": [
    "## Price Diff"
   ]
  },
  {
   "cell_type": "markdown",
   "metadata": {},
   "source": []
  }
 ],
 "metadata": {
  "kernelspec": {
   "display_name": "Python 3",
   "language": "python",
   "name": "python3"
  },
  "language_info": {
   "codemirror_mode": {
    "name": "ipython",
    "version": 3
   },
   "file_extension": ".py",
   "mimetype": "text/x-python",
   "name": "python",
   "nbconvert_exporter": "python",
   "pygments_lexer": "ipython3",
   "version": "3.11.9"
  }
 },
 "nbformat": 4,
 "nbformat_minor": 2
}
