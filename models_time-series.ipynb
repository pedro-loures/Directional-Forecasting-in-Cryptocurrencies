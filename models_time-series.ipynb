{
 "cells": [
  {
   "cell_type": "markdown",
   "metadata": {},
   "source": [
    "# Header"
   ]
  },
  {
   "cell_type": "code",
   "execution_count": 5,
   "metadata": {},
   "outputs": [],
   "source": [
    "from time import time\n",
    "\n",
    "# Data manipulation\n",
    "import pandas as pd\n",
    "\n",
    "# Metrics \n",
    "from sklearn.metrics import accuracy_score, f1_score"
   ]
  },
  {
   "cell_type": "code",
   "execution_count": 6,
   "metadata": {},
   "outputs": [],
   "source": [
    "from data_treatment import train_df, test_df, \\\n",
    "                            treated_train_df, treated_test_df, \\\n",
    "                            new_features_train_df, new_features_test_df, \\\n",
    "                            targets_for_test_df\n",
    "\n",
    "from data_treatment import train_val_split                            "
   ]
  },
  {
   "cell_type": "code",
   "execution_count": 7,
   "metadata": {},
   "outputs": [],
   "source": [
    "\n",
    "\n",
    "\n",
    "datetime_train_df = train_df.copy()\n",
    "datetime_test_df = test_df.copy()\n",
    "datetime_treated_train_df = treated_train_df.copy()\n",
    "datetime_treated_test_df = treated_test_df.copy()\n",
    "datetime_new_features_train_df = new_features_train_df.copy()\n",
    "datetime_new_features_test_df = new_features_test_df.copy()\n",
    "\n",
    "# Ensure that 'timestamp' is in datetime format and set as the index for all dataframes\n",
    "datetime_train_df['timestamp'] = pd.to_datetime(datetime_train_df['timestamp'])\n",
    "datetime_test_df['timestamp'] = pd.to_datetime(datetime_test_df['timestamp'])\n",
    "datetime_treated_train_df['timestamp'] = pd.to_datetime(datetime_treated_train_df['timestamp'])\n",
    "datetime_treated_test_df['timestamp'] = pd.to_datetime(datetime_treated_test_df['timestamp'])\n",
    "datetime_new_features_train_df['timestamp'] = pd.to_datetime(datetime_train_df['timestamp'])\n",
    "datetime_new_features_test_df['timestamp'] = pd.to_datetime(datetime_test_df['timestamp'])\n",
    "\n",
    "# Set 'timestamp' as the index\n",
    "datetime_train_df = datetime_train_df.set_index('timestamp')\n",
    "datetime_test_df = datetime_test_df.set_index('timestamp')\n",
    "datetime_treated_train_df = datetime_treated_train_df.set_index('timestamp')\n",
    "datetime_treated_test_df = datetime_treated_test_df.set_index('timestamp')\n",
    "datetime_new_features_train_df = datetime_new_features_train_df.set_index('timestamp')\n",
    "datetime_new_features_test_df = datetime_new_features_test_df.set_index('timestamp')"
   ]
  },
  {
   "cell_type": "markdown",
   "metadata": {},
   "source": [
    "# Arima for close price"
   ]
  },
  {
   "cell_type": "markdown",
   "metadata": {},
   "source": [
    "## Growth factor"
   ]
  },
  {
   "cell_type": "code",
   "execution_count": 8,
   "metadata": {},
   "outputs": [
    {
     "name": "stderr",
     "output_type": "stream",
     "text": [
      "C:\\Users\\PLour\\AppData\\Local\\Packages\\PythonSoftwareFoundation.Python.3.11_qbz5n2kfra8p0\\LocalCache\\local-packages\\Python311\\site-packages\\statsmodels\\tsa\\base\\tsa_model.py:473: ValueWarning: An unsupported index was provided. As a result, forecasts cannot be generated. To use the model for forecasting, use one of the supported classes of index.\n",
      "  self._init_dates(dates, freq)\n",
      "C:\\Users\\PLour\\AppData\\Local\\Packages\\PythonSoftwareFoundation.Python.3.11_qbz5n2kfra8p0\\LocalCache\\local-packages\\Python311\\site-packages\\statsmodels\\tsa\\base\\tsa_model.py:473: ValueWarning: An unsupported index was provided. As a result, forecasts cannot be generated. To use the model for forecasting, use one of the supported classes of index.\n",
      "  self._init_dates(dates, freq)\n",
      "C:\\Users\\PLour\\AppData\\Local\\Packages\\PythonSoftwareFoundation.Python.3.11_qbz5n2kfra8p0\\LocalCache\\local-packages\\Python311\\site-packages\\statsmodels\\tsa\\base\\tsa_model.py:473: ValueWarning: An unsupported index was provided. As a result, forecasts cannot be generated. To use the model for forecasting, use one of the supported classes of index.\n",
      "  self._init_dates(dates, freq)\n"
     ]
    },
    {
     "ename": "MemoryError",
     "evalue": "Unable to allocate 466. MiB for an array with shape (6, 6, 1697950) and data type float64",
     "output_type": "error",
     "traceback": [
      "\u001b[1;31m---------------------------------------------------------------------------\u001b[0m",
      "\u001b[1;31mMemoryError\u001b[0m                               Traceback (most recent call last)",
      "Cell \u001b[1;32mIn[8], line 20\u001b[0m\n\u001b[0;32m     18\u001b[0m \u001b[38;5;66;03m# Fit ARIMA model on close_train_growth\u001b[39;00m\n\u001b[0;32m     19\u001b[0m arima_model \u001b[38;5;241m=\u001b[39m ARIMA(close_train_growth, order\u001b[38;5;241m=\u001b[39m(\u001b[38;5;241m5\u001b[39m, \u001b[38;5;241m1\u001b[39m, \u001b[38;5;241m0\u001b[39m))\n\u001b[1;32m---> 20\u001b[0m arima_result \u001b[38;5;241m=\u001b[39m \u001b[43marima_model\u001b[49m\u001b[38;5;241;43m.\u001b[39;49m\u001b[43mfit\u001b[49m\u001b[43m(\u001b[49m\u001b[43m)\u001b[49m\n\u001b[0;32m     22\u001b[0m \u001b[38;5;28mprint\u001b[39m(arima_result\u001b[38;5;241m.\u001b[39msummary())\n\u001b[0;32m     24\u001b[0m end_time \u001b[38;5;241m=\u001b[39m time\u001b[38;5;241m.\u001b[39mtime()\n",
      "File \u001b[1;32m~\\AppData\\Local\\Packages\\PythonSoftwareFoundation.Python.3.11_qbz5n2kfra8p0\\LocalCache\\local-packages\\Python311\\site-packages\\statsmodels\\tsa\\arima\\model.py:395\u001b[0m, in \u001b[0;36mARIMA.fit\u001b[1;34m(self, start_params, transformed, includes_fixed, method, method_kwargs, gls, gls_kwargs, cov_type, cov_kwds, return_params, low_memory)\u001b[0m\n\u001b[0;32m    392\u001b[0m \u001b[38;5;28;01melse\u001b[39;00m:\n\u001b[0;32m    393\u001b[0m     method_kwargs\u001b[38;5;241m.\u001b[39msetdefault(\u001b[38;5;124m'\u001b[39m\u001b[38;5;124mdisp\u001b[39m\u001b[38;5;124m'\u001b[39m, \u001b[38;5;241m0\u001b[39m)\n\u001b[1;32m--> 395\u001b[0m     res \u001b[38;5;241m=\u001b[39m \u001b[38;5;28;43msuper\u001b[39;49m\u001b[43m(\u001b[49m\u001b[43m)\u001b[49m\u001b[38;5;241;43m.\u001b[39;49m\u001b[43mfit\u001b[49m\u001b[43m(\u001b[49m\n\u001b[0;32m    396\u001b[0m \u001b[43m        \u001b[49m\u001b[43mreturn_params\u001b[49m\u001b[38;5;241;43m=\u001b[39;49m\u001b[43mreturn_params\u001b[49m\u001b[43m,\u001b[49m\u001b[43m \u001b[49m\u001b[43mlow_memory\u001b[49m\u001b[38;5;241;43m=\u001b[39;49m\u001b[43mlow_memory\u001b[49m\u001b[43m,\u001b[49m\n\u001b[0;32m    397\u001b[0m \u001b[43m        \u001b[49m\u001b[43mcov_type\u001b[49m\u001b[38;5;241;43m=\u001b[39;49m\u001b[43mcov_type\u001b[49m\u001b[43m,\u001b[49m\u001b[43m \u001b[49m\u001b[43mcov_kwds\u001b[49m\u001b[38;5;241;43m=\u001b[39;49m\u001b[43mcov_kwds\u001b[49m\u001b[43m,\u001b[49m\u001b[43m \u001b[49m\u001b[38;5;241;43m*\u001b[39;49m\u001b[38;5;241;43m*\u001b[39;49m\u001b[43mmethod_kwargs\u001b[49m\u001b[43m)\u001b[49m\n\u001b[0;32m    398\u001b[0m     \u001b[38;5;28;01mif\u001b[39;00m \u001b[38;5;129;01mnot\u001b[39;00m return_params:\n\u001b[0;32m    399\u001b[0m         res\u001b[38;5;241m.\u001b[39mfit_details \u001b[38;5;241m=\u001b[39m res\u001b[38;5;241m.\u001b[39mmlefit\n",
      "File \u001b[1;32m~\\AppData\\Local\\Packages\\PythonSoftwareFoundation.Python.3.11_qbz5n2kfra8p0\\LocalCache\\local-packages\\Python311\\site-packages\\statsmodels\\tsa\\statespace\\mlemodel.py:729\u001b[0m, in \u001b[0;36mMLEModel.fit\u001b[1;34m(self, start_params, transformed, includes_fixed, cov_type, cov_kwds, method, maxiter, full_output, disp, callback, return_params, optim_score, optim_complex_step, optim_hessian, flags, low_memory, **kwargs)\u001b[0m\n\u001b[0;32m    727\u001b[0m \u001b[38;5;28;01melse\u001b[39;00m:\n\u001b[0;32m    728\u001b[0m     func \u001b[38;5;241m=\u001b[39m \u001b[38;5;28mself\u001b[39m\u001b[38;5;241m.\u001b[39msmooth\n\u001b[1;32m--> 729\u001b[0m res \u001b[38;5;241m=\u001b[39m \u001b[43mfunc\u001b[49m\u001b[43m(\u001b[49m\u001b[43mmlefit\u001b[49m\u001b[38;5;241;43m.\u001b[39;49m\u001b[43mparams\u001b[49m\u001b[43m,\u001b[49m\u001b[43m \u001b[49m\u001b[43mtransformed\u001b[49m\u001b[38;5;241;43m=\u001b[39;49m\u001b[38;5;28;43;01mFalse\u001b[39;49;00m\u001b[43m,\u001b[49m\u001b[43m \u001b[49m\u001b[43mincludes_fixed\u001b[49m\u001b[38;5;241;43m=\u001b[39;49m\u001b[38;5;28;43;01mFalse\u001b[39;49;00m\u001b[43m,\u001b[49m\n\u001b[0;32m    730\u001b[0m \u001b[43m           \u001b[49m\u001b[43mcov_type\u001b[49m\u001b[38;5;241;43m=\u001b[39;49m\u001b[43mcov_type\u001b[49m\u001b[43m,\u001b[49m\u001b[43m \u001b[49m\u001b[43mcov_kwds\u001b[49m\u001b[38;5;241;43m=\u001b[39;49m\u001b[43mcov_kwds\u001b[49m\u001b[43m)\u001b[49m\n\u001b[0;32m    732\u001b[0m res\u001b[38;5;241m.\u001b[39mmlefit \u001b[38;5;241m=\u001b[39m mlefit\n\u001b[0;32m    733\u001b[0m res\u001b[38;5;241m.\u001b[39mmle_retvals \u001b[38;5;241m=\u001b[39m mlefit\u001b[38;5;241m.\u001b[39mmle_retvals\n",
      "File \u001b[1;32m~\\AppData\\Local\\Packages\\PythonSoftwareFoundation.Python.3.11_qbz5n2kfra8p0\\LocalCache\\local-packages\\Python311\\site-packages\\statsmodels\\tsa\\statespace\\mlemodel.py:887\u001b[0m, in \u001b[0;36mMLEModel.smooth\u001b[1;34m(self, params, transformed, includes_fixed, complex_step, cov_type, cov_kwds, return_ssm, results_class, results_wrapper_class, **kwargs)\u001b[0m\n\u001b[0;32m    884\u001b[0m     kwargs[\u001b[38;5;124m'\u001b[39m\u001b[38;5;124minversion_method\u001b[39m\u001b[38;5;124m'\u001b[39m] \u001b[38;5;241m=\u001b[39m INVERT_UNIVARIATE \u001b[38;5;241m|\u001b[39m SOLVE_LU\n\u001b[0;32m    886\u001b[0m \u001b[38;5;66;03m# Get the state space output\u001b[39;00m\n\u001b[1;32m--> 887\u001b[0m result \u001b[38;5;241m=\u001b[39m \u001b[38;5;28;43mself\u001b[39;49m\u001b[38;5;241;43m.\u001b[39;49m\u001b[43mssm\u001b[49m\u001b[38;5;241;43m.\u001b[39;49m\u001b[43msmooth\u001b[49m\u001b[43m(\u001b[49m\u001b[43mcomplex_step\u001b[49m\u001b[38;5;241;43m=\u001b[39;49m\u001b[43mcomplex_step\u001b[49m\u001b[43m,\u001b[49m\u001b[43m \u001b[49m\u001b[38;5;241;43m*\u001b[39;49m\u001b[38;5;241;43m*\u001b[39;49m\u001b[43mkwargs\u001b[49m\u001b[43m)\u001b[49m\n\u001b[0;32m    889\u001b[0m \u001b[38;5;66;03m# Wrap in a results object\u001b[39;00m\n\u001b[0;32m    890\u001b[0m \u001b[38;5;28;01mreturn\u001b[39;00m \u001b[38;5;28mself\u001b[39m\u001b[38;5;241m.\u001b[39m_wrap_results(params, result, return_ssm, cov_type,\n\u001b[0;32m    891\u001b[0m                           cov_kwds, results_class,\n\u001b[0;32m    892\u001b[0m                           results_wrapper_class)\n",
      "File \u001b[1;32m~\\AppData\\Local\\Packages\\PythonSoftwareFoundation.Python.3.11_qbz5n2kfra8p0\\LocalCache\\local-packages\\Python311\\site-packages\\statsmodels\\tsa\\statespace\\kalman_smoother.py:423\u001b[0m, in \u001b[0;36mKalmanSmoother.smooth\u001b[1;34m(self, smoother_output, smooth_method, results, run_filter, prefix, complex_step, update_representation, update_filter, update_smoother, **kwargs)\u001b[0m\n\u001b[0;32m    421\u001b[0m \u001b[38;5;66;03m# Update the results\u001b[39;00m\n\u001b[0;32m    422\u001b[0m \u001b[38;5;28;01mif\u001b[39;00m update_smoother:\n\u001b[1;32m--> 423\u001b[0m     \u001b[43mresults\u001b[49m\u001b[38;5;241;43m.\u001b[39;49m\u001b[43mupdate_smoother\u001b[49m\u001b[43m(\u001b[49m\u001b[43msmoother\u001b[49m\u001b[43m)\u001b[49m\n\u001b[0;32m    425\u001b[0m \u001b[38;5;28;01mreturn\u001b[39;00m results\n",
      "File \u001b[1;32m~\\AppData\\Local\\Packages\\PythonSoftwareFoundation.Python.3.11_qbz5n2kfra8p0\\LocalCache\\local-packages\\Python311\\site-packages\\statsmodels\\tsa\\statespace\\kalman_smoother.py:676\u001b[0m, in \u001b[0;36mSmootherResults.update_smoother\u001b[1;34m(self, smoother)\u001b[0m\n\u001b[0;32m    673\u001b[0m         \u001b[38;5;28msetattr\u001b[39m(\u001b[38;5;28mself\u001b[39m, name, matrix)\n\u001b[0;32m    674\u001b[0m     \u001b[38;5;28;01melse\u001b[39;00m:\n\u001b[0;32m    675\u001b[0m         \u001b[38;5;28msetattr\u001b[39m(\u001b[38;5;28mself\u001b[39m, name,\n\u001b[1;32m--> 676\u001b[0m                 np\u001b[38;5;241m.\u001b[39marray(\u001b[38;5;28mgetattr\u001b[39m(smoother, name, \u001b[38;5;28;01mNone\u001b[39;00m), copy\u001b[38;5;241m=\u001b[39m\u001b[38;5;28;01mTrue\u001b[39;00m))\n\u001b[0;32m    677\u001b[0m \u001b[38;5;28;01melse\u001b[39;00m:\n\u001b[0;32m    678\u001b[0m     \u001b[38;5;28msetattr\u001b[39m(\u001b[38;5;28mself\u001b[39m, name, \u001b[38;5;28;01mNone\u001b[39;00m)\n",
      "\u001b[1;31mMemoryError\u001b[0m: Unable to allocate 466. MiB for an array with shape (6, 6, 1697950) and data type float64"
     ]
    }
   ],
   "source": [
    "from statsmodels.tsa.arima.model import ARIMA\n",
    "\n",
    "start_time = time()\n",
    "X_train, y_train, X_val, y_val = train_val_split(train_df)\n",
    "close_train_series = X_train['close']\n",
    "close_val_series = X_val['close']\n",
    "\n",
    "close_train_growth = close_train_series.pct_change()\n",
    "close_val_growth = close_val_series.pct_change()\n",
    "\n",
    "close_train_growth = close_train_growth.dropna()\n",
    "close_val_growth = close_val_growth.dropna()\n",
    "\n",
    "# Represent growth as integers to save space\n",
    "close_train_growth = (close_train_growth * 1000).astype('int32')\n",
    "close_val_growth = (close_val_growth * 1000).astype('int32')\n",
    "\n",
    "# Fit ARIMA model on close_train_growth\n",
    "arima_model = ARIMA(close_train_growth, order=(5, 1, 0))\n",
    "arima_result = arima_model.fit()\n",
    "\n",
    "print(arima_result.summary())\n",
    "\n",
    "end_time = time.time()\n",
    "minutes = (end_time - start_time) // 60\n",
    "seconds = (end_time - start_time) % 60\n",
    "print(f'Time elapsed: {minutes:.0f}m {seconds:.1f}s')\n",
    "print('--------------------------------------')"
   ]
  },
  {
   "cell_type": "markdown",
   "metadata": {},
   "source": [
    "### Forecast"
   ]
  },
  {
   "cell_type": "code",
   "execution_count": null,
   "metadata": {},
   "outputs": [
    {
     "name": "stderr",
     "output_type": "stream",
     "text": [
      "C:\\Users\\PLour\\AppData\\Local\\Packages\\PythonSoftwareFoundation.Python.3.11_qbz5n2kfra8p0\\LocalCache\\local-packages\\Python311\\site-packages\\statsmodels\\tsa\\base\\tsa_model.py:837: ValueWarning: No supported index is available. Prediction results will be given with an integer index beginning at `start`.\n",
      "  return get_prediction_index(\n",
      "C:\\Users\\PLour\\AppData\\Local\\Packages\\PythonSoftwareFoundation.Python.3.11_qbz5n2kfra8p0\\LocalCache\\local-packages\\Python311\\site-packages\\statsmodels\\tsa\\base\\tsa_model.py:837: FutureWarning: No supported index is available. In the next version, calling this method in a model without a supported index will result in an exception.\n",
      "  return get_prediction_index(\n"
     ]
    },
    {
     "name": "stdout",
     "output_type": "stream",
     "text": [
      "1697949   -0.000787\n",
      "1697950   -0.001069\n",
      "1697951   -0.000913\n",
      "1697952   -0.000772\n",
      "1697953   -0.000831\n",
      "             ...   \n",
      "2122431   -0.000832\n",
      "2122432   -0.000832\n",
      "2122433   -0.000832\n",
      "2122434   -0.000832\n",
      "2122435   -0.000832\n",
      "Name: predicted_mean, Length: 424487, dtype: float64\n"
     ]
    }
   ],
   "source": [
    "# Forecast the growth prices using the ARIMA model\n",
    "forecast_steps = len(close_val_growth)\n",
    "forecasted_growth = arima_result.forecast(steps=forecast_steps)\n",
    "\n",
    "forecasted_target = forecasted_growth >= 0\n"
   ]
  },
  {
   "cell_type": "code",
   "execution_count": null,
   "metadata": {},
   "outputs": [
    {
     "name": "stderr",
     "output_type": "stream",
     "text": [
      "C:\\Users\\PLour\\AppData\\Local\\Packages\\PythonSoftwareFoundation.Python.3.11_qbz5n2kfra8p0\\LocalCache\\local-packages\\Python311\\site-packages\\statsmodels\\tsa\\base\\tsa_model.py:837: ValueWarning: No supported index is available. Prediction results will be given with an integer index beginning at `start`.\n",
      "  return get_prediction_index(\n",
      "C:\\Users\\PLour\\AppData\\Local\\Packages\\PythonSoftwareFoundation.Python.3.11_qbz5n2kfra8p0\\LocalCache\\local-packages\\Python311\\site-packages\\statsmodels\\tsa\\base\\tsa_model.py:837: FutureWarning: No supported index is available. In the next version, calling this method in a model without a supported index will result in an exception.\n",
      "  return get_prediction_index(\n"
     ]
    },
    {
     "name": "stdout",
     "output_type": "stream",
     "text": [
      "1697949   -0.000787\n",
      "1697950   -0.001069\n",
      "1697951   -0.000913\n",
      "1697952   -0.000772\n",
      "1697953   -0.000831\n",
      "             ...   \n",
      "2607561   -0.000832\n",
      "2607562   -0.000832\n",
      "2607563   -0.000832\n",
      "2607564   -0.000832\n",
      "2607565   -0.000832\n",
      "Name: predicted_mean, Length: 909617, dtype: float64\n"
     ]
    }
   ],
   "source": [
    "close_test_series = test_df['close']\n",
    "close_test_growth = close_test_series.pct_change()\n",
    "\n",
    "# Forecast the growth prices using the ARIMA model\n",
    "forecast_steps = len(close_test_growth)\n",
    "forecasted_growth = arima_result.forecast(steps=forecast_steps)\n",
    "\n",
    "forecasted_target = forecasted_growth >= 0\n"
   ]
  },
  {
   "cell_type": "code",
   "execution_count": null,
   "metadata": {},
   "outputs": [
    {
     "name": "stdout",
     "output_type": "stream",
     "text": [
      "Test Accuracy: 0.58005\n",
      "Test F1 Macro Score: 0.36711\n"
     ]
    }
   ],
   "source": [
    "\n",
    "# Calculate accuracy\n",
    "accuracy = accuracy_score(targets_for_test_df, forecasted_target[:len(targets_for_test_df)])\t\n",
    "print(f'Test Accuracy: {accuracy:.5f}')\n",
    "\n",
    "# Calculate F1 macro score\n",
    "f1_macro = f1_score(targets_for_test_df, forecasted_target[:len(targets_for_test_df)], average='macro')\n",
    "print(f'Test F1 Macro Score: {f1_macro:.5f}')"
   ]
  },
  {
   "cell_type": "markdown",
   "metadata": {},
   "source": [
    "### Prediction (rolling forecast)"
   ]
  },
  {
   "cell_type": "code",
   "execution_count": null,
   "metadata": {},
   "outputs": [
    {
     "name": "stdout",
     "output_type": "stream",
     "text": [
      "iteration number: 0\n",
      "0          0.000721\n",
      "1         -0.000621\n",
      "2          0.000000\n",
      "3         -0.000100\n",
      "4         -0.001431\n",
      "             ...   \n",
      "1697944   -0.001913\n",
      "1697945   -0.001757\n",
      "1697946   -0.000480\n",
      "1697947   -0.001280\n",
      "1697948   -0.000160\n",
      "Name: close, Length: 1697949, dtype: float64\n",
      "iteration number: 1\n",
      "0          0.000721\n",
      "1         -0.000621\n",
      "2          0.000000\n",
      "3         -0.000100\n",
      "4         -0.001431\n",
      "             ...   \n",
      "1697945   -0.001757\n",
      "1697946   -0.000480\n",
      "1697947   -0.001280\n",
      "1697948   -0.000160\n",
      "1697949   -0.001446\n",
      "Length: 1697950, dtype: float64\n"
     ]
    },
    {
     "name": "stderr",
     "output_type": "stream",
     "text": [
      "C:\\Users\\PLour\\AppData\\Local\\Packages\\PythonSoftwareFoundation.Python.3.11_qbz5n2kfra8p0\\LocalCache\\local-packages\\Python311\\site-packages\\statsmodels\\tsa\\base\\tsa_model.py:837: ValueWarning: No supported index is available. Prediction results will be given with an integer index beginning at `start`.\n",
      "  return get_prediction_index(\n",
      "C:\\Users\\PLour\\AppData\\Local\\Packages\\PythonSoftwareFoundation.Python.3.11_qbz5n2kfra8p0\\LocalCache\\local-packages\\Python311\\site-packages\\statsmodels\\tsa\\base\\tsa_model.py:837: FutureWarning: No supported index is available. In the next version, calling this method in a model without a supported index will result in an exception.\n",
      "  return get_prediction_index(\n",
      "C:\\Users\\PLour\\AppData\\Local\\Packages\\PythonSoftwareFoundation.Python.3.11_qbz5n2kfra8p0\\LocalCache\\local-packages\\Python311\\site-packages\\statsmodels\\tsa\\base\\tsa_model.py:837: ValueWarning: No supported index is available. Prediction results will be given with an integer index beginning at `start`.\n",
      "  return get_prediction_index(\n"
     ]
    },
    {
     "name": "stdout",
     "output_type": "stream",
     "text": [
      "iteration number: 2\n",
      "0          0.000721\n",
      "1         -0.000621\n",
      "2          0.000000\n",
      "3         -0.000100\n",
      "4         -0.001431\n",
      "             ...   \n",
      "1697946   -0.000480\n",
      "1697947   -0.001280\n",
      "1697948   -0.000160\n",
      "1697949   -0.001446\n",
      "1697950   -0.000161\n",
      "Length: 1697951, dtype: float64\n",
      "iteration number: 3\n",
      "0          0.000721\n",
      "1         -0.000621\n",
      "2          0.000000\n",
      "3         -0.000100\n",
      "4         -0.001431\n",
      "             ...   \n",
      "1697947   -0.001280\n",
      "1697948   -0.000160\n",
      "1697949   -0.001446\n",
      "1697950   -0.000161\n",
      "1697951    0.000000\n",
      "Length: 1697952, dtype: float64\n",
      "iteration number: 4\n",
      "0          0.000721\n",
      "1         -0.000621\n",
      "2          0.000000\n",
      "3         -0.000100\n",
      "4         -0.001431\n",
      "             ...   \n",
      "1697948   -0.000160\n",
      "1697949   -0.001446\n",
      "1697950   -0.000161\n",
      "1697951    0.000000\n",
      "1697952    0.002575\n",
      "Length: 1697953, dtype: float64\n"
     ]
    },
    {
     "name": "stderr",
     "output_type": "stream",
     "text": [
      "C:\\Users\\PLour\\AppData\\Local\\Packages\\PythonSoftwareFoundation.Python.3.11_qbz5n2kfra8p0\\LocalCache\\local-packages\\Python311\\site-packages\\statsmodels\\tsa\\base\\tsa_model.py:837: ValueWarning: No supported index is available. Prediction results will be given with an integer index beginning at `start`.\n",
      "  return get_prediction_index(\n",
      "C:\\Users\\PLour\\AppData\\Local\\Packages\\PythonSoftwareFoundation.Python.3.11_qbz5n2kfra8p0\\LocalCache\\local-packages\\Python311\\site-packages\\statsmodels\\tsa\\base\\tsa_model.py:837: ValueWarning: No supported index is available. Prediction results will be given with an integer index beginning at `start`.\n",
      "  return get_prediction_index(\n",
      "C:\\Users\\PLour\\AppData\\Local\\Packages\\PythonSoftwareFoundation.Python.3.11_qbz5n2kfra8p0\\LocalCache\\local-packages\\Python311\\site-packages\\statsmodels\\tsa\\base\\tsa_model.py:837: ValueWarning: No supported index is available. Prediction results will be given with an integer index beginning at `start`.\n",
      "  return get_prediction_index(\n"
     ]
    },
    {
     "name": "stdout",
     "output_type": "stream",
     "text": [
      "iteration number: 5\n",
      "0          0.000721\n",
      "1         -0.000621\n",
      "2          0.000000\n",
      "3         -0.000100\n",
      "4         -0.001431\n",
      "             ...   \n",
      "1697949   -0.001446\n",
      "1697950   -0.000161\n",
      "1697951    0.000000\n",
      "1697952    0.002575\n",
      "1697953   -0.002568\n",
      "Length: 1697954, dtype: float64\n",
      "[-0.0007866790288001808, -0.0007866790288001808, -0.0007866790288001808, -0.0007866790288001808, -0.0007866790288001808, -0.0007866790288001808]\n",
      "[False, False, False, False, False, False]\n"
     ]
    },
    {
     "name": "stderr",
     "output_type": "stream",
     "text": [
      "C:\\Users\\PLour\\AppData\\Local\\Packages\\PythonSoftwareFoundation.Python.3.11_qbz5n2kfra8p0\\LocalCache\\local-packages\\Python311\\site-packages\\statsmodels\\tsa\\base\\tsa_model.py:837: ValueWarning: No supported index is available. Prediction results will be given with an integer index beginning at `start`.\n",
      "  return get_prediction_index(\n"
     ]
    }
   ],
   "source": [
    "# Initialize a list to store the predictions\n",
    "predicted_growth = []\n",
    "\n",
    "# Use the last observed value from the training set as the initial input\n",
    "input_series = close_train_growth.copy()\n",
    "\n",
    "# Convert\n",
    "\n",
    "# Iteratively predict the next value in the validation set\n",
    "for actual_value in close_val_growth:\n",
    "\n",
    "    # print(f'iteration number: {len(predicted_growth)}')\n",
    "    # print(input_series)\n",
    "\n",
    "    # Forecast the next value\n",
    "    next_forecast = float(arima_result.forecast(steps=1).iloc[0])\n",
    "    predicted_growth.append(next_forecast)\n",
    "\n",
    "    # Update the input series with the actual value from the validation set\n",
    "    input_series = pd.concat([input_series, pd.Series([actual_value])], ignore_index=True)\n",
    "    # Ensure that 'timestamp' is in datetime format and set as the index\n",
    "\n",
    "    # if len(predicted_growth) > 5:\n",
    "    #     break\n",
    "\n",
    "\n",
    "predicted_target = [growth >= 0 for growth in predicted_growth]\n",
    "# Print the predicted growth values\n",
    "print(predicted_growth)\n",
    "print(predicted_target)\n"
   ]
  },
  {
   "cell_type": "code",
   "execution_count": null,
   "metadata": {},
   "outputs": [],
   "source": [
    "\n",
    "# Calculate accuracy\n",
    "accuracy = accuracy_score(targets_for_test_df, predicted_target[:len(targets_for_test_df)])\t\n",
    "print(f'Test Accuracy: {accuracy:.5f}')\n",
    "\n",
    "# Calculate F1 macro score\n",
    "f1_macro = f1_score(targets_for_test_df, predicted_target[:len(targets_for_test_df)], average='macro')\n",
    "print(f'Test F1 Macro Score: {f1_macro:.5f}')"
   ]
  },
  {
   "cell_type": "code",
   "execution_count": null,
   "metadata": {},
   "outputs": [],
   "source": [
    "close_test_series = test_df['close']\n",
    "close_test_growth = close_test_series.pct_change()\n",
    "\n",
    "# Forecast the growth prices using the ARIMA model\n",
    "forecast_steps = len(close_test_growth)\n",
    "forecasted_growth = arima_result.forecast(steps=forecast_steps)\n",
    "\n",
    "forecasted_target = forecasted_growth >= 0\n",
    "\n",
    "# Print the forecasted growth prices\n",
    "print(forecasted_growth)"
   ]
  },
  {
   "cell_type": "code",
   "execution_count": null,
   "metadata": {},
   "outputs": [],
   "source": [
    "\n",
    "# Calculate accuracy\n",
    "accuracy = accuracy_score(targets_for_test_df, predicted_target[:len(targets_for_test_df)])\t\n",
    "print(f'Test Accuracy: {accuracy:.5f}')\n",
    "\n",
    "# Calculate F1 macro score\n",
    "f1_macro = f1_score(targets_for_test_df, predicted_target[:len(targets_for_test_df)], average='macro')\n",
    "print(f'Test F1 Macro Score: {f1_macro:.5f}')"
   ]
  },
  {
   "cell_type": "markdown",
   "metadata": {},
   "source": [
    "## Price Diff"
   ]
  },
  {
   "cell_type": "code",
   "execution_count": null,
   "metadata": {},
   "outputs": [],
   "source": [
    "from statsmodels.tsa.arima.model import ARIMA\n",
    "\n",
    "start_time = time()\n",
    "X_train, y_train, X_val, y_val = train_val_split(train_df)\n",
    "close_train_series = X_train['close']\n",
    "close_val_series = X_val['close']\n",
    "\n",
    "# Get Close difference\n",
    "close_train_diff = close_train_series.diff().dropna()\n",
    "close_val_diff = close_val_series.diff().dropna()\n",
    "\n",
    "# Represent as integers to save space\n",
    "close_train_diff = (close_train_diff * 1000).astype('int32')\n",
    "close_val_diff = (close_val_diff * 1000).astype('int32')\n",
    "\n",
    "\n",
    "# Fit ARIMA model on close_train_growth\n",
    "arima_model = ARIMA(close_train_diff, order=(5, 1, 0))\n",
    "arima_result = arima_model.fit()\n",
    "\n",
    "print(arima_result.summary())\n",
    "\n",
    "end_time = time.time()\n",
    "minutes = (end_time - start_time) // 60\n",
    "seconds = (end_time - start_time) % 60\n",
    "print(f'Time elapsed: {minutes:.0f}m {seconds:.1f}s')\n",
    "print('--------------------------------------')"
   ]
  },
  {
   "cell_type": "markdown",
   "metadata": {},
   "source": [
    "### Forecast"
   ]
  },
  {
   "cell_type": "code",
   "execution_count": null,
   "metadata": {},
   "outputs": [],
   "source": [
    "# Forecast the diff prices using the ARIMA model\n",
    "forecast_steps = len(close_val_diff)\n",
    "forecasted_diff = arima_result.forecast(steps=forecast_steps)\n",
    "\n",
    "forecasted_target = forecasted_diff >= 0\n",
    "\n",
    "# Print the forecasted diff prices\n",
    "print(forecasted_diff)"
   ]
  },
  {
   "cell_type": "code",
   "execution_count": null,
   "metadata": {},
   "outputs": [],
   "source": [
    "\n",
    "# # Calculate accuracy\n",
    "# accuracy = accuracy_score(targets_for_test_df, forecasted_target[:len(targets_for_test_df)])\t\n",
    "# print(f'Test Accuracy: {accuracy:.5f}')\n",
    "\n",
    "# # Calculate F1 macro score\n",
    "# f1_macro = f1_score(targets_for_test_df, forecasted_target[:len(targets_for_test_df)], average='macro')\n",
    "# print(f'Test F1 Macro Score: {f1_macro:.5f}')"
   ]
  },
  {
   "cell_type": "markdown",
   "metadata": {},
   "source": [
    "### Prediction (rolling forecast)"
   ]
  },
  {
   "cell_type": "code",
   "execution_count": null,
   "metadata": {},
   "outputs": [],
   "source": [
    "# Initialize a list to store the predictions\n",
    "predicted_diff = []\n",
    "\n",
    "# Use the last observed value from the training set as the initial input\n",
    "input_series = close_train_diff.copy()\n",
    "\n",
    "# Iteratively predict the next value in the validation set\n",
    "for actual_value in close_val_diff:\n",
    "    \n",
    "    # Forecast the next value\n",
    "    next_forecast = arima_result.forecast(steps=1)[0]\n",
    "    predicted_diff.append(next_forecast)\n",
    "    \n",
    "    # Update the input series with the actual value from the validation set\n",
    "    input_series = input_series.append(pd.Series([actual_value]))\n",
    "\n",
    "predicted_target = predicted_diff >= 0\n",
    "# Print the predicted diff values\n",
    "print(predicted_diff)\n",
    "print(predicted_target)\n"
   ]
  },
  {
   "cell_type": "code",
   "execution_count": null,
   "metadata": {},
   "outputs": [],
   "source": [
    "\n",
    "# # Calculate accuracy\n",
    "# accuracy = accuracy_score(targets_for_test_df, predicted_target[:len(targets_for_test_df)])\t\n",
    "# print(f'Test Accuracy: {accuracy:.5f}')\n",
    "\n",
    "# # Calculate F1 macro score\n",
    "# f1_macro = f1_score(targets_for_test_df, predicted_target[:len(targets_for_test_df)], average='macro')\n",
    "# print(f'Test F1 Macro Score: {f1_macro:.5f}')"
   ]
  }
 ],
 "metadata": {
  "kernelspec": {
   "display_name": "Python 3",
   "language": "python",
   "name": "python3"
  },
  "language_info": {
   "codemirror_mode": {
    "name": "ipython",
    "version": 3
   },
   "file_extension": ".py",
   "mimetype": "text/x-python",
   "name": "python",
   "nbconvert_exporter": "python",
   "pygments_lexer": "ipython3",
   "version": "3.11.9"
  }
 },
 "nbformat": 4,
 "nbformat_minor": 2
}
