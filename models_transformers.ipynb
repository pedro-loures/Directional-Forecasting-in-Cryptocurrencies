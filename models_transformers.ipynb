{
 "cells": [
  {
   "cell_type": "markdown",
   "metadata": {},
   "source": [
    "# Headers"
   ]
  },
  {
   "cell_type": "code",
   "execution_count": 1,
   "metadata": {},
   "outputs": [
    {
     "ename": "ModuleNotFoundError",
     "evalue": "No module named 'pandas'",
     "output_type": "error",
     "traceback": [
      "\u001b[1;31m---------------------------------------------------------------------------\u001b[0m",
      "\u001b[1;31mModuleNotFoundError\u001b[0m                       Traceback (most recent call last)",
      "Cell \u001b[1;32mIn[1], line 1\u001b[0m\n\u001b[1;32m----> 1\u001b[0m \u001b[38;5;28;01mimport\u001b[39;00m \u001b[38;5;21;01mpandas\u001b[39;00m \u001b[38;5;28;01mas\u001b[39;00m \u001b[38;5;21;01mpd\u001b[39;00m\n\u001b[0;32m      2\u001b[0m \u001b[38;5;28;01mimport\u001b[39;00m \u001b[38;5;21;01mtime\u001b[39;00m\n\u001b[0;32m      3\u001b[0m \u001b[38;5;28;01mimport\u001b[39;00m \u001b[38;5;21;01mnumpy\u001b[39;00m \u001b[38;5;28;01mas\u001b[39;00m \u001b[38;5;21;01mnp\u001b[39;00m\n",
      "\u001b[1;31mModuleNotFoundError\u001b[0m: No module named 'pandas'"
     ]
    }
   ],
   "source": [
    "import pandas as pd\n",
    "import time\n",
    "import numpy as np\n",
    "\n",
    "# Models\n",
    "from tsai.all import *\n",
    "from tsai.data import TimeSeriesDataLoaders\n",
    "\n",
    "\n",
    "# Metrics\n",
    "from sklearn.metrics import accuracy_score, f1_score"
   ]
  },
  {
   "cell_type": "code",
   "execution_count": null,
   "metadata": {},
   "outputs": [],
   "source": [
    "from data_treatment import train_df, test_df, \\\n",
    "                            treated_train_df, treated_test_df, \\\n",
    "                            new_features_train_df, new_features_test_df, \\\n",
    "                            svd_train_df, svd_test_df, \\\n",
    "                            targets_for_test_df\n",
    "\n",
    "from data_treatment import train_val_split"
   ]
  },
  {
   "cell_type": "markdown",
   "metadata": {},
   "source": [
    "# Data Processing"
   ]
  },
  {
   "cell_type": "code",
   "execution_count": null,
   "metadata": {},
   "outputs": [
    {
     "ename": "NameError",
     "evalue": "name 'TimeSeriesDataSet' is not defined",
     "output_type": "error",
     "traceback": [
      "\u001b[1;31m---------------------------------------------------------------------------\u001b[0m",
      "\u001b[1;31mNameError\u001b[0m                                 Traceback (most recent call last)",
      "Cell \u001b[1;32mIn[5], line 8\u001b[0m\n\u001b[0;32m      5\u001b[0m X_train, y_train, X_val, y_val \u001b[38;5;241m=\u001b[39m train_val_split(treated_train_df)\n\u001b[0;32m      7\u001b[0m \u001b[38;5;66;03m# Convert the training and validation data into a TimeSeriesDataSet\u001b[39;00m\n\u001b[1;32m----> 8\u001b[0m train_ds \u001b[38;5;241m=\u001b[39m \u001b[43mTimeSeriesDataSet\u001b[49m(X_train, y_train, seq_len\u001b[38;5;241m=\u001b[39mseq_length, target\u001b[38;5;241m=\u001b[39m\u001b[38;5;124m'\u001b[39m\u001b[38;5;124mtarget\u001b[39m\u001b[38;5;124m'\u001b[39m)\n\u001b[0;32m      9\u001b[0m valid_ds \u001b[38;5;241m=\u001b[39m TimeSeriesDataSet(X_val, y_val, seq_len\u001b[38;5;241m=\u001b[39mseq_length, target\u001b[38;5;241m=\u001b[39m\u001b[38;5;124m'\u001b[39m\u001b[38;5;124mtarget\u001b[39m\u001b[38;5;124m'\u001b[39m)\n",
      "\u001b[1;31mNameError\u001b[0m: name 'TimeSeriesDataSet' is not defined"
     ]
    }
   ],
   "source": [
    "# Set the sequence length (look-back window)\n",
    "seq_length = 60\n",
    "\n",
    "# Split the training data into training and validation data\n",
    "X_train, y_train, X_val, y_val = train_val_split(treated_train_df)\n",
    "\n",
    "# Convert the training and validation data into a TimeSeriesDataSet\n",
    "train_ds = TimeSeriesDataSet(X_train, y_train, seq_len=seq_length, target='target')\n",
    "valid_ds = TimeSeriesDataSet(X_val, y_val, seq_len=seq_length, target='target')\n"
   ]
  },
  {
   "cell_type": "markdown",
   "metadata": {},
   "source": [
    "# Basic Time Series Transformers"
   ]
  }
 ],
 "metadata": {
  "kernelspec": {
   "display_name": "tranformers_env",
   "language": "python",
   "name": "python3"
  },
  "language_info": {
   "codemirror_mode": {
    "name": "ipython",
    "version": 3
   },
   "file_extension": ".py",
   "mimetype": "text/x-python",
   "name": "python",
   "nbconvert_exporter": "python",
   "pygments_lexer": "ipython3",
   "version": "3.11.9"
  }
 },
 "nbformat": 4,
 "nbformat_minor": 2
}
