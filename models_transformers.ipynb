{
 "cells": [
  {
   "cell_type": "markdown",
   "metadata": {},
   "source": [
    "# Headers"
   ]
  },
  {
   "cell_type": "code",
   "execution_count": 1,
   "metadata": {},
   "outputs": [],
   "source": [
    "import pandas as pd\n",
    "import time\n",
    "import numpy as np\n",
    "\n",
    "\n",
    "\n",
    "# Metrics\n",
    "from sklearn.metrics import accuracy_score, f1_score"
   ]
  },
  {
   "cell_type": "code",
   "execution_count": 2,
   "metadata": {},
   "outputs": [
    {
     "name": "stdout",
     "output_type": "stream",
     "text": [
      "CUDA available:  False\n",
      "Number of GPUs:  0\n",
      "GPU Name:  No GPU available\n",
      "Using cpu device\n"
     ]
    }
   ],
   "source": [
    "import torch\n",
    "\n",
    "\n",
    "print(\"CUDA available: \", torch.cuda.is_available())\n",
    "print(\"Number of GPUs: \", torch.cuda.device_count())\n",
    "print(\"GPU Name: \", torch.cuda.get_device_name(0) if torch.cuda.is_available() else \"No GPU available\")\n",
    "\n",
    "device ='cuda' if torch.cuda.is_available() else 'cpu'\n",
    "print(f'Using {device} device')\n"
   ]
  },
  {
   "cell_type": "code",
   "execution_count": 3,
   "metadata": {},
   "outputs": [],
   "source": [
    "from utils import train_datapath, test_datapath\n",
    "from utils import train_val_split"
   ]
  },
  {
   "cell_type": "code",
   "execution_count": 4,
   "metadata": {},
   "outputs": [],
   "source": [
    "targets_for_test_df = pd.read_csv('data/targets_for_test.csv', index_col=0)\n"
   ]
  },
  {
   "cell_type": "markdown",
   "metadata": {},
   "source": [
    "# TabNet"
   ]
  },
  {
   "cell_type": "markdown",
   "metadata": {},
   "source": [
    "## Crude\n"
   ]
  },
  {
   "cell_type": "code",
   "execution_count": 5,
   "metadata": {},
   "outputs": [],
   "source": [
    "treated_train_df = pd.read_csv('data/treated_train.csv')\n",
    "\n",
    "X_train, y_train, X_val, y_val = train_val_split(treated_train_df)\n"
   ]
  },
  {
   "cell_type": "code",
   "execution_count": 6,
   "metadata": {},
   "outputs": [],
   "source": [
    "from pytorch_tabnet.tab_model import TabNetClassifier, TabNetRegressor\n",
    "import pandas as pd\n",
    "import numpy as np\n",
    "from sklearn.model_selection import train_test_split\n",
    "from sklearn.metrics import accuracy_score\n"
   ]
  },
  {
   "cell_type": "code",
   "execution_count": null,
   "metadata": {},
   "outputs": [
    {
     "name": "stderr",
     "output_type": "stream",
     "text": [
      "d:\\01_GitHub\\Directional-Forecasting-in-Cryptocurrencies\\env_tranformers\\Lib\\site-packages\\pytorch_tabnet\\abstract_model.py:82: UserWarning: Device used : cpu\n",
      "  warnings.warn(f\"Device used : {self.device}\")\n"
     ]
    },
    {
     "name": "stdout",
     "output_type": "stream",
     "text": [
      "epoch 0  | loss: 0.69048 | val_0_accuracy: 0.5293  |  0:03:33s\n"
     ]
    }
   ],
   "source": [
    "start_time = time.time()\n",
    "\n",
    "\n",
    "tabnet = TabNetClassifier()\n",
    "\n",
    "tabnet.fit(\n",
    "    X_train.values, y_train.values,\n",
    "    eval_set=[(X_val.values, y_val.values)],\n",
    "    eval_metric=['accuracy'],\n",
    "    max_epochs=100, patience=10,\n",
    "    batch_size=256, virtual_batch_size=128,\n",
    "    num_workers=0,\n",
    "    drop_last=False\n",
    ")\n",
    "\n",
    "\n",
    "# Save the trained model\n",
    "tabnet.save_model(\"models/tabnet_pretrained_model\")\n",
    "\n",
    "end_time = time.time()\n",
    "minutes = (end_time - start_time) // 60\n",
    "seconds = (end_time - start_time) % 60\n",
    "print(f'Time elapsed: {minutes:.0f}m {seconds:.1f}s')\n",
    "print('--------------------------------------')\n",
    "\n"
   ]
  },
  {
   "cell_type": "code",
   "execution_count": null,
   "metadata": {},
   "outputs": [
    {
     "name": "stderr",
     "output_type": "stream",
     "text": [
      "d:\\01_GitHub\\Directional-Forecasting-in-Cryptocurrencies\\env_tranformers\\Lib\\site-packages\\pytorch_tabnet\\abstract_model.py:82: UserWarning: Device used : cpu\n",
      "  warnings.warn(f\"Device used : {self.device}\")\n",
      "d:\\01_GitHub\\Directional-Forecasting-in-Cryptocurrencies\\env_tranformers\\Lib\\site-packages\\pytorch_tabnet\\abstract_model.py:454: FutureWarning: You are using `torch.load` with `weights_only=False` (the current default value), which uses the default pickle module implicitly. It is possible to construct malicious pickle data which will execute arbitrary code during unpickling (See https://github.com/pytorch/pytorch/blob/main/SECURITY.md#untrusted-models for more details). In a future release, the default value for `weights_only` will be flipped to `True`. This limits the functions that could be executed during unpickling. Arbitrary objects will no longer be allowed to be loaded via this mode unless they are explicitly allowlisted by the user via `torch.serialization.add_safe_globals`. We recommend you start setting `weights_only=True` for any use case where you don't have full control of the loaded file. Please open an issue on GitHub for any issues related to this experimental feature.\n",
      "  saved_state_dict = torch.load(f, map_location=self.device)\n"
     ]
    },
    {
     "name": "stdout",
     "output_type": "stream",
     "text": [
      "Validation Accuracy: 0.53347\n",
      "Validation F1 Macro Score: 0.39120\n"
     ]
    }
   ],
   "source": [
    "\n",
    "# Load the pre-trained model\n",
    "loaded_model = TabNetClassifier()\n",
    "loaded_model.load_model(\"models/tabnet_pretrained_model.zip\")\n",
    "\n",
    "# Test the loaded model\n",
    "y_pred = loaded_model.predict(X_val.values)\n",
    "# Calculate accuracy\n",
    "accuracy = accuracy_score(y_val, y_pred)\n",
    "print(f'Validation Accuracy: {accuracy:.5f}')\n",
    "\n",
    "# Calculate F1 macro score\n",
    "f1_macro = f1_score(y_val, y_pred, average='macro')\n",
    "print(f'Validation F1 Macro Score: {f1_macro:.5f}')\n"
   ]
  },
  {
   "cell_type": "markdown",
   "metadata": {},
   "source": [
    "# TST "
   ]
  },
  {
   "cell_type": "code",
   "execution_count": 5,
   "metadata": {},
   "outputs": [],
   "source": [
    "import torch\n",
    "import torch.nn as nn\n",
    "import torch.optim as optim\n",
    "from torch.utils.data import DataLoader, Dataset\n",
    "\n",
    "\n",
    "import pandas as pd\n",
    "import numpy as np\n",
    "import h5py"
   ]
  },
  {
   "cell_type": "markdown",
   "metadata": {},
   "source": [
    "## Dataset"
   ]
  },
  {
   "cell_type": "code",
   "execution_count": 6,
   "metadata": {},
   "outputs": [],
   "source": [
    "train_df = pd.read_csv(train_datapath)\n",
    "num_features = len(train_df.columns) - 1\n",
    "del train_df\n",
    "\n",
    "\n",
    "batch_size, sequence_len, num_features = 1024, 60, num_features  # dimensions of the dataset"
   ]
  },
  {
   "cell_type": "markdown",
   "metadata": {},
   "source": [
    "## Model"
   ]
  },
  {
   "cell_type": "code",
   "execution_count": 7,
   "metadata": {},
   "outputs": [],
   "source": [
    "import torch\n",
    "import torch.nn as nn\n",
    "\n",
    "class TimeSeriesTransformer(nn.Module):\n",
    "    def __init__(self, num_features, d_model, num_heads, num_layers, seq_len):\n",
    "        super(TimeSeriesTransformer, self).__init__()\n",
    "        self.embedding = nn.Linear(num_features, d_model)\n",
    "        self.transformer = nn.Transformer(d_model=d_model, nhead=num_heads, num_encoder_layers=num_layers, batch_first=True)\n",
    "        self.fc_out = nn.Linear(d_model * seq_len, 1)  # Binary classification output\n",
    "\n",
    "    def forward(self, x):\n",
    "        # Embed input features\n",
    "        x = self.embedding(x)\n",
    "        x = x.permute(1, 0, 2)  # Transformer expects [seq_len, batch, feature]\n",
    "        # Pass through transformer layers\n",
    "        x = self.transformer(x, x)\n",
    "        x = x.permute(1, 0, 2)  # Back to [batch, seq_len, feature]\n",
    "        x = x.reshape(x.size(0), -1)  # Flatten for final layer\n",
    "        return self.fc_out(x)\n"
   ]
  },
  {
   "cell_type": "code",
   "execution_count": 8,
   "metadata": {},
   "outputs": [],
   "source": [
    "\n",
    "import torch\n",
    "import torch.nn as nn\n",
    "import h5py\n",
    "from tqdm import tqdm\n",
    "\n",
    "\n",
    "# Training parameters\n",
    "epochs = 10\n",
    "batch_size = 32\n",
    "\n",
    "# Model, loss, and optimizer initialization\n",
    "d_model = 64\n",
    "num_heads = 4\n",
    "num_features = 10  # Adjust based on your data\n",
    "seq_len = 60  # Based on your time-series window size\n",
    "num_layers = 2\n",
    "\n",
    "model = TimeSeriesTransformer(num_features=num_features, d_model=d_model, num_heads=num_heads, num_layers=num_layers, seq_len=seq_len).to(device)\n",
    "criterion = nn.BCEWithLogitsLoss()\n",
    "optimizer = torch.optim.Adam(model.parameters())\n"
   ]
  },
  {
   "cell_type": "code",
   "execution_count": null,
   "metadata": {},
   "outputs": [
    {
     "ename": "",
     "evalue": "",
     "output_type": "error",
     "traceback": [
      "\u001b[1;31mO Kernel deu pane ao executar o código na célula atual ou em uma célula anterior. \n",
      "\u001b[1;31mAnalise o código nas células para identificar uma possível causa da pane. \n",
      "\u001b[1;31mClique <a href='https://aka.ms/vscodeJupyterKernelCrash'>aqui</a> para obter mais informações. \n",
      "\u001b[1;31mConsulte Jupyter <a href='command:jupyter.viewOutput'>log</a> para obter mais detalhes."
     ]
    }
   ],
   "source": [
    "def train_model(model, criterion, optimizer, epochs, filename, device=device):\n",
    "    for epoch in range(epochs):\n",
    "        model.train()\n",
    "        epoch_loss = 0.0\n",
    "        \n",
    "\n",
    "        # Open HDF5 file for reading\n",
    "        with h5py.File(filename, 'r') as h5f:\n",
    "\n",
    "            num_batches = len([key for key in h5f.keys() if key.startswith(\"batch_\")])\n",
    "            print(f'number of batches: {num_batches}')\n",
    "            for batch_index in tqdm(range(num_batches), desc=f\"Epoch {epoch+1}/{epochs}\"):\n",
    "                # Load data and labels for the current batch\n",
    "                batch_data = h5f[f'batch_{batch_index}'][:]\n",
    "                X_batch = torch.tensor(batch_data[:, :, :-1], dtype=torch.float32)  # Exclude target column\n",
    "                y_batch = torch.tensor(batch_data[:, 0, -1], dtype=torch.float32)   # Target as a separate vector\n",
    "\n",
    "                # Move data to the correct device if using a GPU\n",
    "                X_batch, y_batch = X_batch.to(device), y_batch.to(device)\n",
    "\n",
    "                # Zero the gradients\n",
    "                optimizer.zero_grad()\n",
    "\n",
    "                # Forward pass\n",
    "                outputs = model(X_batch).squeeze()  # [batch_size]\n",
    "                loss = criterion(outputs, y_batch)\n",
    "\n",
    "                # Backward pass and optimization\n",
    "                loss.backward()\n",
    "                optimizer.step()\n",
    "\n",
    "                # Track loss for the epoch\n",
    "                epoch_loss += loss.item()\n",
    "\n",
    "        # Average loss for the epoch\n",
    "        avg_loss = epoch_loss / batch_index\n",
    "        print(f'Epoch {epoch+1}/{epochs}, Loss: {avg_loss:.4f}')\n",
    "\n"
   ]
  },
  {
   "cell_type": "code",
   "execution_count": null,
   "metadata": {},
   "outputs": [
    {
     "name": "stdout",
     "output_type": "stream",
     "text": [
      "Model parameters defined\n",
      "Model, criterion, and optimizer initialized\n",
      "number of batches: 889\n"
     ]
    },
    {
     "name": "stderr",
     "output_type": "stream",
     "text": [
      "Epoch 1/10:   0%|          | 0/889 [00:00<?, ?it/s]"
     ]
    }
   ],
   "source": [
    "\n",
    "# Model parameters\n",
    "num_features = num_features # Number of input features\n",
    "d_model = 64                # Transformer embedding dimension\n",
    "num_heads = 4               # Number of attention heads\n",
    "num_layers = 2              # Number of transformer layers\n",
    "sequence_len = sequence_len # Sequence length\n",
    "print(f'Model parameters defined')\n",
    "# Instantiate model, criterion, and optimizer\n",
    "model = TimeSeriesTransformer(num_features, d_model, num_heads, num_layers, sequence_len)\n",
    "criterion = nn.BCEWithLogitsLoss()  # For binary classification\n",
    "optimizer = torch.optim.Adam(model.parameters(), lr=0.001)\n",
    "\n",
    "print(f'Model, criterion, and optimizer initialized')\n",
    "# Call the function to train the model\n",
    "train_model(model, criterion, optimizer, epochs, 'data/test_images.h5', device)\n",
    "\n"
   ]
  },
  {
   "cell_type": "code",
   "execution_count": null,
   "metadata": {},
   "outputs": [],
   "source": []
  }
 ],
 "metadata": {
  "kernelspec": {
   "display_name": "env_tranformers",
   "language": "python",
   "name": "python3"
  },
  "language_info": {
   "codemirror_mode": {
    "name": "ipython",
    "version": 3
   },
   "file_extension": ".py",
   "mimetype": "text/x-python",
   "name": "python",
   "nbconvert_exporter": "python",
   "pygments_lexer": "ipython3",
   "version": "3.11.9"
  }
 },
 "nbformat": 4,
 "nbformat_minor": 2
}
