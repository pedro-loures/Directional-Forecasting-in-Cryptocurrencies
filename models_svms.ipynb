{
 "cells": [
  {
   "cell_type": "markdown",
   "metadata": {},
   "source": [
    "# Preparing\n"
   ]
  },
  {
   "cell_type": "code",
   "execution_count": 2,
   "metadata": {},
   "outputs": [],
   "source": [
    "import pandas as pd\n",
    "import time\n",
    "\n",
    "from sklearn.preprocessing import StandardScaler\n",
    "\n",
    "from sklearn.svm import SVC\n",
    "from sklearn.model_selection import train_test_split\n",
    "from sklearn.metrics import accuracy_score, classification_report"
   ]
  },
  {
   "cell_type": "code",
   "execution_count": 3,
   "metadata": {},
   "outputs": [
    {
     "ename": "ImportError",
     "evalue": "cannot import name 'svd_train_df' from 'data_treatment' (d:\\01_GitHub\\Directional-Forecasting-in-Cryptocurrencies\\data_treatment.py)",
     "output_type": "error",
     "traceback": [
      "\u001b[1;31m---------------------------------------------------------------------------\u001b[0m",
      "\u001b[1;31mImportError\u001b[0m                               Traceback (most recent call last)",
      "Cell \u001b[1;32mIn[3], line 1\u001b[0m\n\u001b[1;32m----> 1\u001b[0m \u001b[38;5;28;01mfrom\u001b[39;00m \u001b[38;5;21;01mdata_treatment\u001b[39;00m \u001b[38;5;28;01mimport\u001b[39;00m train_df, test_df, \\\n\u001b[0;32m      2\u001b[0m                             treated_train_df, treated_test_df, \\\n\u001b[0;32m      3\u001b[0m                             new_features_train_df, new_features_test_df, \\\n\u001b[0;32m      4\u001b[0m                             svd_train_df, svd_test_df, \\\n\u001b[0;32m      5\u001b[0m                             targets_for_test_df\n\u001b[0;32m      7\u001b[0m \u001b[38;5;28;01mfrom\u001b[39;00m \u001b[38;5;21;01mdata_treatment\u001b[39;00m \u001b[38;5;28;01mimport\u001b[39;00m train_val_split\n",
      "\u001b[1;31mImportError\u001b[0m: cannot import name 'svd_train_df' from 'data_treatment' (d:\\01_GitHub\\Directional-Forecasting-in-Cryptocurrencies\\data_treatment.py)"
     ]
    }
   ],
   "source": [
    "from data_treatment import train_df, test_df, \\\n",
    "                            treated_train_df, treated_test_df, \\\n",
    "                            new_features_train_df, new_features_test_df, \\\n",
    "                            svd_train_df, svd_test_df, \\\n",
    "                            targets_for_test_df\n",
    "\n",
    "from data_treatment import train_val_split"
   ]
  },
  {
   "cell_type": "markdown",
   "metadata": {},
   "source": [
    "# Basic SVM"
   ]
  },
  {
   "cell_type": "markdown",
   "metadata": {},
   "source": [
    "## Crude"
   ]
  },
  {
   "cell_type": "code",
   "execution_count": null,
   "metadata": {},
   "outputs": [],
   "source": [
    "# # Ignore this cell\n",
    "\n",
    " \n",
    "# start_time = time.time()\n",
    "\n",
    "# # Define features and target\n",
    "# X = train_df.drop(columns=['target'])\n",
    "# y = train_df['target']\n",
    "\n",
    "# # Split the data into training and validation sets\n",
    "# X_train = X.iloc[:len(X)*4//5]\n",
    "# y_train = y.iloc[:len(y)*4//5]\n",
    "# X_val= X.iloc[len(X)*4//5:]\n",
    "# y_val = y.iloc[len(y)*4//5:]\n",
    "\n",
    "# # Initialize the SVM model\n",
    "# svm_model = SVC(kernel='linear')\n",
    "\n",
    "# # Train the model\n",
    "# svm_model.fit(X_train, y_train)\n",
    "\n",
    "# # Make predictions on the validation set\n",
    "# y_pred = svm_model.predict(X_val)\n",
    "\n",
    "# # Evaluate the model\n",
    "# accuracy = accuracy_score(y_val, y_pred)\n",
    "# report = classification_report(y_val, y_pred)\n",
    "\n",
    "# end_time = time.time()\n",
    "# minutes = (end_time - start_time) // 60\n",
    "# seconds = (end_time - start_time) % 60\n",
    "# print(f'Time elapsed: {minutes:.0f}m {seconds:.1f}s')\n",
    "# print('--------------------------------------')\n",
    "# # Calculate accuracy\n",
    "# accuracy = accuracy_score(y_val, y_pred)\n",
    "# print(f'Validation Accuracy: {accuracy:.5f}')\n",
    "\n",
    "# # Calculate F1 macro score\n",
    "# f1_macro = f1_score(y_val, y_pred, average='macro')\n",
    "# print(f'Validation F1 Macro Score: {f1_macro:.5f}')\n",
    "\n",
    "# print('classification report:')\n",
    "# print(report)"
   ]
  },
  {
   "cell_type": "code",
   "execution_count": null,
   "metadata": {},
   "outputs": [],
   "source": [
    "# # Evaluate the X_test predictions using the targets_for_test_df\n",
    "\n",
    "# # Ensure the test data is preprocessed in the same way as the training data\n",
    "\n",
    "# X_test = test_df.drop(columns=['row_id'])\n",
    "\n",
    "# # Make predictions on the test data\n",
    "# test_predictions = svm_model.predict(X_test)\n",
    "\n",
    "# # Calculate accuracy\n",
    "# accuracy = accuracy_score(targets_for_test_df, test_predictions[:len(targets_for_test_df)])\t\n",
    "# print(f'Test Accuracy: {accuracy:.5f}')\n",
    "\n",
    "# # Calculate F1 macro score\n",
    "# f1_macro = f1_score(targets_for_test_df, test_predictions[:len(targets_for_test_df)], average='macro')\n",
    "# print(f'Test F1 Macro Score: {f1_macro:.5f}')"
   ]
  },
  {
   "cell_type": "markdown",
   "metadata": {},
   "source": [
    "## New Features"
   ]
  },
  {
   "cell_type": "code",
   "execution_count": null,
   "metadata": {},
   "outputs": [],
   "source": [
    "# start_time = time.time()\n",
    "\n",
    "# # Define features and target\n",
    "# X = treated_train_df.drop(columns=['target'])\n",
    "# y = treated_train_df['target']\n",
    "\n",
    "# # Split the data into training and validation sets\n",
    "# X_train = X.iloc[:len(X)*4//5]\n",
    "# y_train = y.iloc[:len(y)*4//5]\n",
    "# X_val= X.iloc[len(X)*4//5:]\n",
    "# y_val = y.iloc[len(y)*4//5:]\n",
    "\n",
    "# # Initialize the SVM model\n",
    "# svm_model = SVC(kernel='linear')\n",
    "\n",
    "# # Train the model\n",
    "# svm_model.fit(X_train, y_train)\n",
    "\n",
    "# # Make predictions on the validation set\n",
    "# y_pred = svm_model.predict(X_val)\n",
    "\n",
    "# # Evaluate the model\n",
    "# accuracy = accuracy_score(y_val, y_pred)\n",
    "# report = classification_report(y_val, y_pred)\n",
    "\n",
    "# end_time = time.time()\n",
    "# minutes = (end_time - start_time) // 60\n",
    "# seconds = (end_time - start_time) % 60\n",
    "# print(f'Time elapsed: {minutes:.0f}m {seconds:.1f}s')\n",
    "# print('--------------------------------------')\n",
    "# # Calculate accuracy\n",
    "# accuracy = accuracy_score(y_val, y_pred)\n",
    "# print(f'Validation Accuracy: {accuracy:.5f}')\n",
    "\n",
    "# # Calculate F1 macro score\n",
    "# f1_macro = f1_score(y_val, y_pred, average='macro')\n",
    "# print(f'Validation F1 Macro Score: {f1_macro:.5f}')\n",
    "\n",
    "# print('classification report:')\n",
    "# print(report)"
   ]
  },
  {
   "cell_type": "code",
   "execution_count": null,
   "metadata": {},
   "outputs": [],
   "source": [
    "# # Evaluate the X_test predictions using the targets_for_test_df\n",
    "\n",
    "# # Ensure the test data is preprocessed in the same way as the training data\n",
    "\n",
    "# X_test = treated_test_df.drop(columns=['row_id'])\n",
    "\n",
    "# # Make predictions on the test data\n",
    "# test_predictions = svm_model.predict(X_test)\n",
    "\n",
    "# # Calculate accuracy\n",
    "# accuracy = accuracy_score(targets_for_test_df, test_predictions[:len(targets_for_test_df)])\t\n",
    "# print(f'Test Accuracy: {accuracy:.5f}')\n",
    "\n",
    "# # Calculate F1 macro score\n",
    "# f1_macro = f1_score(targets_for_test_df, test_predictions[:len(targets_for_test_df)], average='macro')\n",
    "# print(f'Test F1 Macro Score: {f1_macro:.5f}')"
   ]
  },
  {
   "cell_type": "markdown",
   "metadata": {},
   "source": [
    "## Only New Features"
   ]
  },
  {
   "cell_type": "code",
   "execution_count": null,
   "metadata": {},
   "outputs": [],
   "source": [
    "# start_time = time.time()\n",
    "# # Define features and target\n",
    "# X = new_feature_train_df.drop(columns=['target'])\n",
    "# y = new_feature_train_df['target']\n",
    "\n",
    "# # Split the data into training and validation sets\n",
    "# X_train = X.iloc[:len(X)*4//5]\n",
    "# y_train = y.iloc[:len(y)*4//5]\n",
    "# X_val= X.iloc[len(X)*4//5:]\n",
    "# y_val = y.iloc[len(y)*4//5:]\n",
    "\n",
    "# # Initialize the SVM model\n",
    "# svm_model = SVC(kernel='linear')\n",
    "\n",
    "# # Train the model\n",
    "# svm_model.fit(X_train, y_train)\n",
    "\n",
    "# # Make predictions on the validation set\n",
    "# y_pred = svm_model.predict(X_val)\n",
    "\n",
    "# # Evaluate the model\n",
    "# accuracy = accuracy_score(y_val, y_pred)\n",
    "# report = classification_report(y_val, y_pred)\n",
    "\n",
    "# end_time = time.time()\n",
    "# minutes = (end_time - start_time) // 60\n",
    "# seconds = (end_time - start_time) % 60\n",
    "# print(f'Time elapsed: {minutes:.0f}m {seconds:.1f}s')\n",
    "# print('--------------------------------------')\n",
    "# # Calculate accuracy\n",
    "# accuracy = accuracy_score(y_val, y_pred)\n",
    "# print(f'Validation Accuracy: {accuracy:.5f}')\n",
    "\n",
    "# # Calculate F1 macro score\n",
    "# f1_macro = f1_score(y_val, y_pred, average='macro')\n",
    "# print(f'Validation F1 Macro Score: {f1_macro:.5f}')\n",
    "\n",
    "# print('classification report:')\n",
    "# print(report)"
   ]
  },
  {
   "cell_type": "code",
   "execution_count": null,
   "metadata": {},
   "outputs": [],
   "source": [
    "# # Evaluate the X_test predictions using the targets_for_test_df\n",
    "\n",
    "# # Ensure the test data is preprocessed in the same way as the training data\n",
    "\n",
    "# X_test = new_features_test_df.drop(columns=['row_id'])\n",
    "\n",
    "# # Make predictions on the test data\n",
    "# test_predictions = svm_model.predict(X_test)\n",
    "\n",
    "# # Calculate accuracy\n",
    "# accuracy = accuracy_score(targets_for_test_df, test_predictions[:len(targets_for_test_df)])\t\n",
    "# print(f'Test Accuracy: {accuracy:.5f}')\n",
    "\n",
    "# # Calculate F1 macro score\n",
    "# f1_macro = f1_score(targets_for_test_df, test_predictions[:len(targets_for_test_df)], average='macro')\n",
    "# print(f'Test F1 Macro Score: {f1_macro:.5f}')"
   ]
  },
  {
   "cell_type": "markdown",
   "metadata": {},
   "source": [
    "# SVM on a SVDd dataframe"
   ]
  },
  {
   "cell_type": "code",
   "execution_count": null,
   "metadata": {},
   "outputs": [],
   "source": [
    "start_time = time.time()\n",
    "\n",
    "# Define features and target\n",
    "X = svd_train_df.drop(columns=['target'])\n",
    "y = svd_train_df['target']\n",
    "\n",
    "# Split the data into training and validation sets\n",
    "X_train, y_train, X_val, y_val = train_val_split(svd_train_df)\n",
    "\n",
    "# Initialize the SVM model\n",
    "svm_model = SVC(kernel='linear')\n",
    "\n",
    "# Train the model\n",
    "svm_model.fit(X_train, y_train)\n",
    "\n",
    "# Make predictions on the validation set\n",
    "y_pred = svm_model.predict(X_val)\n",
    "\n",
    "# Evaluate the model\n",
    "accuracy = accuracy_score(y_val, y_pred)\n",
    "report = classification_report(y_val, y_pred)\n",
    "\n",
    "end_time = time.time()\n",
    "minutes = (end_time - start_time) // 60\n",
    "seconds = (end_time - start_time) % 60\n",
    "print(f'Time elapsed: {minutes:.0f}m {seconds:.1f}s')\n",
    "print('--------------------------------------')\n",
    "# Calculate accuracy\n",
    "accuracy = accuracy_score(y_val, y_pred)\n",
    "print(f'Validation Accuracy: {accuracy:.5f}')\n",
    "\n",
    "# Calculate F1 macro score\n",
    "f1_macro = f1_score(y_val, y_pred, average='macro')\n",
    "print(f'Validation F1 Macro Score: {f1_macro:.5f}')\n",
    "\n",
    "print('classification report:')\n",
    "print(report)"
   ]
  },
  {
   "cell_type": "code",
   "execution_count": null,
   "metadata": {
    "vscode": {
     "languageId": "cmake"
    }
   },
   "outputs": [],
   "source": [
    "# Ensure the test data is preprocessed in the same way as the training data\n",
    "X_test = svd_test_df.drop(columns=['row_id'])\n",
    "\n",
    "# Make predictions on the test data\n",
    "test_predictions = svm_model.predict(X_test)\n",
    "\n",
    "# Calculate accuracy\n",
    "accuracy = accuracy_score(targets_for_test_df, test_predictions[:len(targets_for_test_df)])\t\n",
    "print(f'Test Accuracy: {accuracy:.5f}')\n",
    "\n",
    "# Calculate F1 macro score\n",
    "f1_macro = f1_score(targets_for_test_df, test_predictions[:len(targets_for_test_df)], average='macro')\n",
    "print(f'Test F1 Macro Score: {f1_macro:.5f}')"
   ]
  }
 ],
 "metadata": {
  "kernelspec": {
   "display_name": "Python 3",
   "language": "python",
   "name": "python3"
  },
  "language_info": {
   "codemirror_mode": {
    "name": "ipython",
    "version": 3
   },
   "file_extension": ".py",
   "mimetype": "text/x-python",
   "name": "python",
   "nbconvert_exporter": "python",
   "pygments_lexer": "ipython3",
   "version": "3.11.9"
  }
 },
 "nbformat": 4,
 "nbformat_minor": 2
}
