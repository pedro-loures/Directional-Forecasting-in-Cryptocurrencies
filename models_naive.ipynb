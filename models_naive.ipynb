{
 "cells": [
  {
   "cell_type": "code",
   "execution_count": 7,
   "metadata": {},
   "outputs": [],
   "source": [
    "import pandas as pd\n",
    "import time\n",
    "\n",
    "from sklearn.preprocessing import StandardScaler"
   ]
  },
  {
   "cell_type": "code",
   "execution_count": 8,
   "metadata": {},
   "outputs": [],
   "source": [
    "# Paths\n",
    "data_folder = input()\n",
    "TRAIN_PATH = data_folder + '/train.csv'\n",
    "TEST_PATH = data_folder + '/test.csv'\n",
    "\n"
   ]
  },
  {
   "cell_type": "code",
   "execution_count": 9,
   "metadata": {},
   "outputs": [],
   "source": [
    "train_df = pd.read_csv(TRAIN_PATH)\n",
    "test_df = pd.read_csv(TEST_PATH)\n"
   ]
  },
  {
   "cell_type": "code",
   "execution_count": 10,
   "metadata": {},
   "outputs": [],
   "source": [
    "targets_for_test_df = test_df['close'] / test_df['close'].shift(1)\n",
    "targets_for_test_df = targets_for_test_df > 1\n",
    "targets_for_test_df = targets_for_test_df.astype(int).shift(-1)\n",
    "targets_for_test_df.dropna(inplace=True)\n"
   ]
  },
  {
   "cell_type": "markdown",
   "metadata": {},
   "source": [
    "# Majority Guessing"
   ]
  },
  {
   "cell_type": "code",
   "execution_count": 11,
   "metadata": {},
   "outputs": [
    {
     "name": "stdout",
     "output_type": "stream",
     "text": [
      "Validation Accuracy: 0.531152824108102\n",
      "Validation F1 Macro Score: 0.3468973284345402\n"
     ]
    }
   ],
   "source": [
    "from sklearn.metrics import accuracy_score, f1_score\n",
    "from sklearn.model_selection import train_test_split\n",
    "\n",
    "# Assuming 'target' is the column to predict and the rest are features\n",
    "X = train_df.drop(columns=['target'])\n",
    "y = train_df['target']\n",
    "\n",
    "# Split the data into training and validation sets\n",
    "X_train = X.iloc[:len(X)*4//5]\n",
    "y_train = y.iloc[:len(y)*4//5]\n",
    "X_val= X.iloc[len(X)*4//5:]\n",
    "y_val = y.iloc[len(y)*4//5:]\n",
    "\n",
    "# Check if there are more Ones or Zeroes on train_df[target]\n",
    "majority_class = train_df['target'].value_counts().idxmax()\n",
    "\n",
    "y_pred = [majority_class] * len(y_val)\n",
    "\n",
    "# Calculate accuracy\n",
    "accuracy = accuracy_score(y_val, y_pred)\n",
    "print(f'Validation Accuracy: {accuracy}')\n",
    "\n",
    "# Calculate F1 macro score\n",
    "f1_macro = f1_score(y_val, y_pred, average='macro')\n",
    "print(f'Validation F1 Macro Score: {f1_macro}')\n",
    "\n"
   ]
  },
  {
   "cell_type": "code",
   "execution_count": 16,
   "metadata": {},
   "outputs": [
    {
     "name": "stdout",
     "output_type": "stream",
     "text": [
      "Test Accuracy: 0.58005\n",
      "Test F1 Macro Score: 0.36711\n"
     ]
    }
   ],
   "source": [
    "# Evaluate the X_test predictions using the targets_for_test_df\n",
    "\n",
    "# Ensure the test data is preprocessed in the same way as the training data\n",
    "\n",
    "X_test = test_df.drop(columns=['row_id'])\n",
    "\n",
    "# Make predictions on the test data\n",
    "test_prediction = [majority_class] * len(X_test)\n",
    "# Calculate accuracy\n",
    "accuracy = accuracy_score(targets_for_test_df, test_prediction[:len(targets_for_test_df)])\t\n",
    "print(f'Test Accuracy: {accuracy:.5f}')\n",
    "\n",
    "# Calculate F1 macro score\n",
    "f1_macro = f1_score(targets_for_test_df, test_prediction[:len(targets_for_test_df)], average='macro')\n",
    "print(f'Test F1 Macro Score: {f1_macro:.5f}')"
   ]
  },
  {
   "cell_type": "markdown",
   "metadata": {},
   "source": [
    "# Random Prediction"
   ]
  },
  {
   "cell_type": "code",
   "execution_count": 18,
   "metadata": {},
   "outputs": [
    {
     "name": "stdout",
     "output_type": "stream",
     "text": [
      "Test Accuracy (Random): 0.50025\n",
      "Test F1 Macro Score (Random): 0.49700\n"
     ]
    }
   ],
   "source": [
    "import numpy as np\n",
    "\n",
    "# Generate random predictions for the test data\n",
    "np.random.seed(42)  # For reproducibility\n",
    "random_predictions = np.random.choice([0, 1], size=len(test_df))\n",
    "\n",
    "# Calculate accuracy\n",
    "accuracy = accuracy_score(targets_for_test_df, random_predictions[:len(targets_for_test_df)])\n",
    "print(f'Test Accuracy (Random): {accuracy:.5f}')\n",
    "\n",
    "# Calculate F1 macro score\n",
    "f1_macro = f1_score(targets_for_test_df, random_predictions[:len(targets_for_test_df)], average='macro')\n",
    "print(f'Test F1 Macro Score (Random): {f1_macro:.5f}')"
   ]
  },
  {
   "cell_type": "code",
   "execution_count": 19,
   "metadata": {},
   "outputs": [
    {
     "name": "stdout",
     "output_type": "stream",
     "text": [
      "Predictions saved to submission.csv\n"
     ]
    }
   ],
   "source": [
    "\n",
    "# Create a new DataFrame for the submission\n",
    "submission_df = pd.DataFrame({\n",
    "    'row_id': test_df['row_id'],\n",
    "    'target': random_predictions\n",
    "})\n",
    "\n",
    "# Save the submission file\n",
    "submission_df.to_csv('submission.csv', index=False)\n",
    "print(\"Predictions saved to submission.csv\")\n"
   ]
  },
  {
   "cell_type": "code",
   "execution_count": null,
   "metadata": {},
   "outputs": [],
   "source": []
  }
 ],
 "metadata": {
  "kernelspec": {
   "display_name": "Python 3",
   "language": "python",
   "name": "python3"
  },
  "language_info": {
   "codemirror_mode": {
    "name": "ipython",
    "version": 3
   },
   "file_extension": ".py",
   "mimetype": "text/x-python",
   "name": "python",
   "nbconvert_exporter": "python",
   "pygments_lexer": "ipython3",
   "version": "3.11.9"
  }
 },
 "nbformat": 4,
 "nbformat_minor": 2
}
